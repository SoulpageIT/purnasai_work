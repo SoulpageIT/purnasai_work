{
 "cells": [
  {
   "cell_type": "markdown",
   "metadata": {},
   "source": [
    "## Preknowledge"
   ]
  },
  {
   "cell_type": "markdown",
   "metadata": {},
   "source": [
    "A drop of oil, on its incredible journey from several thousand feet underground to the gas station (petrol pump), leaves behind tremendous amount of data. This data often remains scattered, and unused. Analysis shows that oil & gas industry uses less than 1% of the total available data. Digital transformation to leverage these large amounts of data is estimated to have a value between US $1.5 to $2.6 trillion for the oil & gas industry.\n",
    "    ---- from [here](https://www.analyticsvidhya.com/datahack-summit-2018/sessions/overview-of-intelligent-oil-gas-value-chain-use-cases-for-data-science-and-predictive-analytics/)"
   ]
  },
  {
   "cell_type": "markdown",
   "metadata": {},
   "source": [
    "#### Knowing Upstream, Midstream and Downstream"
   ]
  },
  {
   "cell_type": "code",
   "execution_count": 1,
   "metadata": {},
   "outputs": [
    {
     "data": {
      "text/html": [
       "<img src=\"data:image/jpeg;base64,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\"/>"
      ],
      "text/plain": [
       "<IPython.core.display.Image object>"
      ]
     },
     "execution_count": 1,
     "metadata": {},
     "output_type": "execute_result"
    }
   ],
   "source": [
    "from IPython.display import Image\n",
    "Image(url='data:image/jpeg;base64,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')"
   ]
  },
  {
   "cell_type": "code",
   "execution_count": 2,
   "metadata": {},
   "outputs": [
    {
     "data": {
      "text/html": [
       "<img src=\"https://2.bp.blogspot.com/-6gB0BAusk10/V8lljybuoRI/AAAAAAABFk4/aMPTe3gMDyk6M281Ho1PnK0EzeuMA1LpgCLcB/s1600/upstream-midstream-downstream.jpg\"/>"
      ],
      "text/plain": [
       "<IPython.core.display.Image object>"
      ]
     },
     "execution_count": 2,
     "metadata": {},
     "output_type": "execute_result"
    }
   ],
   "source": [
    "from IPython.display import Image\n",
    "Image(url='https://2.bp.blogspot.com/-6gB0BAusk10/V8lljybuoRI/AAAAAAABFk4/aMPTe3gMDyk6M281Ho1PnK0EzeuMA1LpgCLcB/s1600/upstream-midstream-downstream.jpg')\n"
   ]
  },
  {
   "cell_type": "code",
   "execution_count": 3,
   "metadata": {},
   "outputs": [
    {
     "data": {
      "text/html": [
       "<img src=\"https://energyeducation.ca/wiki/images/d/d8/Oilind.png\"/>"
      ],
      "text/plain": [
       "<IPython.core.display.Image object>"
      ]
     },
     "execution_count": 3,
     "metadata": {},
     "output_type": "execute_result"
    }
   ],
   "source": [
    "from IPython.display import Image\n",
    "Image(url='https://energyeducation.ca/wiki/images/d/d8/Oilind.png')"
   ]
  },
  {
   "cell_type": "code",
   "execution_count": 4,
   "metadata": {},
   "outputs": [
    {
     "name": "stdout",
     "output_type": "stream",
     "text": [
      "Data science and AI usecases here\n"
     ]
    },
    {
     "data": {
      "text/html": [
       "\n",
       "        <iframe\n",
       "            width=\"150%\"\n",
       "            height=\"500\"\n",
       "            src=\"https://www.analyticsvidhya.com/datahack-summit-2018/sessions/overview-of-intelligent-oil-gas-value-chain-use-cases-for-data-science-and-predictive-analytics/\"\n",
       "            frameborder=\"0\"\n",
       "            allowfullscreen\n",
       "        ></iframe>\n",
       "        "
      ],
      "text/plain": [
       "<IPython.lib.display.IFrame at 0x7f40507fe860>"
      ]
     },
     "execution_count": 4,
     "metadata": {},
     "output_type": "execute_result"
    }
   ],
   "source": [
    "from IPython.display import IFrame\n",
    "print('Data science and AI usecases here')\n",
    "IFrame('https://www.analyticsvidhya.com/datahack-summit-2018/sessions/overview-of-intelligent-oil-gas-value-chain-use-cases-for-data-science-and-predictive-analytics/', width='150%', height=500)"
   ]
  },
  {
   "cell_type": "markdown",
   "metadata": {},
   "source": [
    "from the above blog\n",
    "#### Selected Data Science and AI use cases for:\n",
    "\n",
    "- **Upstream**\n",
    "    - Geophysics use cases\n",
    "    - Geology and Petrophysics use cases\n",
    "    - Reservoir and Production Engineering use cases\n",
    "    - Drilling use cases\n",
    "- **Midstream**\n",
    "    - Predictive Maintenance of Pipelines\n",
    "    - Predictive Storage Planning\n",
    "- **Downstream**\n",
    "    - Predictive Maintenance and Equipment Failure Analytics\n",
    "    - Design of Advance Materials, and Hydrocarbon Storage"
   ]
  },
  {
   "cell_type": "markdown",
   "metadata": {},
   "source": [
    "- Real time visualizations\n",
    "- helps in Decision making\n",
    "- high accuracy in Drilling methods & oil exploration.\n",
    "    - best drilling locations.\n",
    "    - indicates how and where to steer the drill bit.\n",
    "    - best rock type and its locations.\n",
    "\n",
    "- searh for hydrocarbon deposits(Hydrocarbon Deposits. ... The structures formed in sedimentary basins are known to act as traps for hydrocarbons (ie natural gas and petroleum).) takes lots of machinary,logistics,and drilling power and often costs around 100million dollars.\n",
    "\n",
    "#### IBM watson\n",
    "    - alerts sudden water inflow in well2.\n",
    "    - analysis the reason\n",
    "    - founds its has perforated hole in well2, becuase being near to water\n",
    "    - clear choke settings.\n",
    "    - watson gives exact choke settings using features like\n",
    "        - rate.\n",
    "        - compostion.\n",
    "        - fluid pressure.\n",
    "        - operating condition.\n",
    "        - temperature.\n",
    "        \n",
    "### using seisimic data and fiber optics to generate 2d/3d subsurface & rock type & level.\n",
    "    some other important features that can paly major role in \n",
    "    - logs\n",
    "    - temperature\n",
    "    - stream.\n",
    "    - core data.\n",
    "    - fluid saturation.\n",
    "    - well completition data\n",
    "    - geological features.\n",
    "    - steam injection rate.\n",
    "    - pressure."
   ]
  },
  {
   "cell_type": "markdown",
   "metadata": {},
   "source": [
    "#### TOns and Tons of usecases in Oil and Gas from Data Science Convention 2019 organized by the Data Analytics group of the Society of Petroleum Engineers (SPE)\n",
    "from [here](https://towardsdatascience.com/data-is-the-new-oil-even-in-the-oil-and-gas-industry-a3daa58d743d) in MAY 10 2019.\n",
    "- The geosciences and exploration domain are actively working with automated **well logs interpretation and exploration using machine learning**.\n",
    "- One particular industry project dealt with **real-time formation interpretation using Bayesian State Space Models and Monte Carlo simulations**.\n",
    "- Another project utilized AI in **fault interpretation using neural networks**.\n",
    "- Missing 3-dimensional data in seismic logs presents unique challenges in modeling synthetic data for further interpretations. **Both real and synthetic data are utilized thus for reducing the amount of time spent** in realizing geoscientific conclusions.\n",
    "- **Grain size predictions are also being analyzed using convolutional neural networks** with data from micro-resistivity logs and multiple other inputs.\n",
    "- In drilling, both contextual data (in the form of daily drilling log reports) and structured visual data (obtained through logging and captured in the electronic drilling recorder), need to be analyzed. Due to the time-bound nature of drilling operations, real-time decisions need to be made. To this end, **companies are using neural networks, and analyzing rig states for real-time data visualization, and for predicting drilling key performance indicators**. Torque and drag on the drill strings in any given well can be calculated in real-time now using AI, by estimating coefficient of friction and normal contact forces between the string and the wellbore.\n",
    "- Another operator is **utilizing historical data of pump washouts, and implementing a smartphone alert system** to the rig operators if and when a washout will occur.\n",
    "- **Oil and gas production optimization analysis involves time series forecasting and recurring neural networks**. Major KPIs include **prediction of oil rates, and gas-to-oil ratios**. \n",
    "- One particular project used **feature extraction models to use calculated bottom-hole pressure, choke, well head temperature and neighboring wells’ data to predict daily oil rate**. \n",
    "- Another project utilized **deep learning and neural networks for pattern recognition on sucker rod dynamometer cards. Production changes due to well interruptions can also be modeled using interrupted time-series modeling (ITS)**."
   ]
  },
  {
   "cell_type": "markdown",
   "metadata": {},
   "source": [
    "### T-sne, pca and k-means clustering on Raw well log data is [here](https://towardsdatascience.com/machine-learning-applied-to-geophysical-well-log-data-58ebb6ee2bc6)"
   ]
  },
  {
   "cell_type": "markdown",
   "metadata": {},
   "source": [
    "Here are **10 ways that the impact of machine learning in oil & gas industries** is being felt.\n",
    "#### Table of Contents\t\n",
    "- Accurate Modelling\n",
    "- Pinpointing Exactly Where to Dig with Machine Learning\n",
    "- Applying Machine Learning in oil & gas to Improve Subsurface Characterisation\n",
    "- Optimizing Drilling Operations\n",
    "- Solving Problems Quickly with Machine Learning Applications\n",
    "- Predictive Maintenance\n",
    "- Internet of Things\n",
    "- Predictive Software For Energy Purchases Customer Market\n",
    "- Replacing Manual Workers\n",
    "- Machine Learning to Predict Operational Outcomes"
   ]
  },
  {
   "cell_type": "markdown",
   "metadata": {},
   "source": [
    "#### Machine learning in oil and Gas conference held every year internationally, more [here](https://www.machinelearning-oilandgas.com/)"
   ]
  },
  {
   "cell_type": "markdown",
   "metadata": {},
   "source": [
    "#### [Machine learning in Oil and Gas by Geoscientist](https://www.youtube.com/watch?v=xMy6dBbMwio)"
   ]
  },
  {
   "cell_type": "markdown",
   "metadata": {},
   "source": [
    "#### [World Oil and Gas Resources Assessments live here](https://certmapper.cr.usgs.gov/data/apps/world-energy/?resource=continuous)"
   ]
  },
  {
   "cell_type": "code",
   "execution_count": null,
   "metadata": {},
   "outputs": [],
   "source": []
  },
  {
   "cell_type": "code",
   "execution_count": null,
   "metadata": {},
   "outputs": [],
   "source": []
  },
  {
   "cell_type": "markdown",
   "metadata": {},
   "source": [
    "### 1.PetroFlow [here](https://github.com/gazprom-neft/petroflow)\n",
    "**PetroFlow is a library that allows to process well data (logs, core photo etc.) and conveniently train machine learning models**."
   ]
  },
  {
   "cell_type": "markdown",
   "metadata": {},
   "source": [
    "### 2. Plotly oil & Gas dashboard [here](https://github.com/plotly/dash-oil-and-gas-demo)"
   ]
  },
  {
   "cell_type": "markdown",
   "metadata": {},
   "source": [
    "### DATASets"
   ]
  },
  {
   "cell_type": "markdown",
   "metadata": {},
   "source": [
    "1. Oil and gas from [kaggle](https://www.kaggle.com/raspberrypie/oil-and-gas)\n",
    "2. Gas prices in Brazil from [kaggle](https://www.kaggle.com/matheusfreitag/gas-prices-in-brazil)\n",
    "3. Oil and Gas production- 1967- 1999 from [data.gov](https://data.world/data-ny-gov/8y5c-ebxg)\n",
    "4. Production dataminer3 from Alaska Oil and Gas commision [here](http://aogweb.state.ak.us/DataMiner3/Forms/Production.aspx)\n",
    "5. Crude oil production from [Eia](https://www.eia.gov/dnav/pet/pet_crd_crpdn_adc_mbbl_a.htm)\n",
    "6. Oil price and Share price of few companies [here](https://www.kaggle.com/javierbravo/oil-price-and-share-price-of-a-few-companies)\n",
    "7. North Dakota General Stats of Oil&Gas [here](https://www.dmr.nd.gov/oilgas/stats/statisticsvw.asp)\n",
    "### Notebooks\n",
    "8. Another Good [Notebook](https://github.com/potokrm/oil-and-gas/blob/master/production_data_exploration/ProductionDataExploration.ipynb) and [git](https://github.com/potokrm/oil-and-gas).\n",
    "9. Another Notebook on Oil and Gas Anamoly detection [here](https://github.com/ricardovvargas/3w_dataset/blob/master/demo_2_benchmark_anomaly_detection.ipynb)\n",
    "10. Automated well log correlation using CNN's in Pytorch [here](https://github.com/dfitzgerald3/AutomatedWellLogCorrelation)\n",
    "11. Exploratory Data Analysis for production well tests [here](Exploratory Data Analysis for production well tests).\n",
    "12. Another Jupyter notebook on Well log training data [here](https://github.com/jessepisel/well_log_ML/blob/master/directional%20wells/well%20log%20training%20data.ipynb).\n",
    "13. Public Oil and Gas datasets using Scrappping [here](https://github.com/derrickturk/public-oil-gas-data/blob/master/public-oil-gas-data.md).\n",
    "14. Us Energy and Information Administration [here](https://www.eia.gov/petroleum/data.php) also called EIA.\n",
    "15. A Tour of the Oil industry jupyter notebook [here](https://github.com/pythonbravo/oil_price/blob/master/A_Tour_of_the_Oil_Industry.ipynb)"
   ]
  }
 ],
 "metadata": {
  "kernelspec": {
   "display_name": "Python 3",
   "language": "python",
   "name": "python3"
  },
  "language_info": {
   "codemirror_mode": {
    "name": "ipython",
    "version": 3
   },
   "file_extension": ".py",
   "mimetype": "text/x-python",
   "name": "python",
   "nbconvert_exporter": "python",
   "pygments_lexer": "ipython3",
   "version": "3.6.8"
  }
 },
 "nbformat": 4,
 "nbformat_minor": 2
}

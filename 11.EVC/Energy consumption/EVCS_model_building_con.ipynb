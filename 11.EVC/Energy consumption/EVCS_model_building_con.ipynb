{
 "cells": [
  {
   "cell_type": "markdown",
   "metadata": {},
   "source": [
    "## EvC Energy consumption Analysis"
   ]
  },
  {
   "cell_type": "code",
   "execution_count": 322,
   "metadata": {},
   "outputs": [],
   "source": [
    "import json\n",
    "import pandas as pd\n",
    "import numpy as np\n",
    "import csv\n",
    "import matplotlib.pyplot as plt\n",
    "import seaborn as sns\n",
    "%matplotlib inline\n",
    "\n",
    "#avoid warnings\n",
    "import warnings\n",
    "warnings.filterwarnings(\"ignore\")\n",
    "\n",
    "#plt style\n",
    "#plt.style.use('fivethirtyeight')\n",
    "#import datetime\n"
   ]
  },
  {
   "cell_type": "code",
   "execution_count": 323,
   "metadata": {},
   "outputs": [],
   "source": [
    "data = pd.read_csv('energy_consumption_clean_data.csv')"
   ]
  },
  {
   "cell_type": "code",
   "execution_count": 324,
   "metadata": {},
   "outputs": [
    {
     "data": {
      "text/html": [
       "<div>\n",
       "<style scoped>\n",
       "    .dataframe tbody tr th:only-of-type {\n",
       "        vertical-align: middle;\n",
       "    }\n",
       "\n",
       "    .dataframe tbody tr th {\n",
       "        vertical-align: top;\n",
       "    }\n",
       "\n",
       "    .dataframe thead th {\n",
       "        text-align: right;\n",
       "    }\n",
       "</style>\n",
       "<table border=\"1\" class=\"dataframe\">\n",
       "  <thead>\n",
       "    <tr style=\"text-align: right;\">\n",
       "      <th></th>\n",
       "      <th>Unnamed: 0</th>\n",
       "      <th>Date</th>\n",
       "      <th>No Of Sessions</th>\n",
       "      <th>Unique Drivers</th>\n",
       "      <th>No. of Ports</th>\n",
       "      <th>Energy (kWh)</th>\n",
       "      <th>GHG savings (kg)</th>\n",
       "      <th>Charge time (minutes)</th>\n",
       "      <th>Gasoline Savings (gallons)</th>\n",
       "      <th>Speed_energy_transmittion</th>\n",
       "      <th>Month</th>\n",
       "      <th>Year</th>\n",
       "      <th>day</th>\n",
       "      <th>week_days</th>\n",
       "      <th>Energy (MWh)</th>\n",
       "    </tr>\n",
       "  </thead>\n",
       "  <tbody>\n",
       "    <tr>\n",
       "      <td>0</td>\n",
       "      <td>0</td>\n",
       "      <td>2018-01-01</td>\n",
       "      <td>1</td>\n",
       "      <td>1</td>\n",
       "      <td>16</td>\n",
       "      <td>7</td>\n",
       "      <td>3</td>\n",
       "      <td>123</td>\n",
       "      <td>0.82</td>\n",
       "      <td>0.056911</td>\n",
       "      <td>Jan</td>\n",
       "      <td>2018</td>\n",
       "      <td>1</td>\n",
       "      <td>Monday</td>\n",
       "      <td>0.007</td>\n",
       "    </tr>\n",
       "    <tr>\n",
       "      <td>1</td>\n",
       "      <td>1</td>\n",
       "      <td>2018-01-02</td>\n",
       "      <td>2</td>\n",
       "      <td>1</td>\n",
       "      <td>16</td>\n",
       "      <td>18</td>\n",
       "      <td>7</td>\n",
       "      <td>24</td>\n",
       "      <td>0.31</td>\n",
       "      <td>0.750000</td>\n",
       "      <td>Jan</td>\n",
       "      <td>2018</td>\n",
       "      <td>2</td>\n",
       "      <td>Tuesday</td>\n",
       "      <td>0.018</td>\n",
       "    </tr>\n",
       "    <tr>\n",
       "      <td>2</td>\n",
       "      <td>2</td>\n",
       "      <td>2018-01-03</td>\n",
       "      <td>3</td>\n",
       "      <td>3</td>\n",
       "      <td>18</td>\n",
       "      <td>11</td>\n",
       "      <td>5</td>\n",
       "      <td>376</td>\n",
       "      <td>3.30</td>\n",
       "      <td>0.029255</td>\n",
       "      <td>Jan</td>\n",
       "      <td>2018</td>\n",
       "      <td>3</td>\n",
       "      <td>Wednesday</td>\n",
       "      <td>0.011</td>\n",
       "    </tr>\n",
       "    <tr>\n",
       "      <td>3</td>\n",
       "      <td>3</td>\n",
       "      <td>2018-01-04</td>\n",
       "      <td>6</td>\n",
       "      <td>6</td>\n",
       "      <td>20</td>\n",
       "      <td>50</td>\n",
       "      <td>21</td>\n",
       "      <td>406</td>\n",
       "      <td>3.59</td>\n",
       "      <td>0.123153</td>\n",
       "      <td>Jan</td>\n",
       "      <td>2018</td>\n",
       "      <td>4</td>\n",
       "      <td>Thursday</td>\n",
       "      <td>0.050</td>\n",
       "    </tr>\n",
       "    <tr>\n",
       "      <td>4</td>\n",
       "      <td>4</td>\n",
       "      <td>2018-01-05</td>\n",
       "      <td>2</td>\n",
       "      <td>2</td>\n",
       "      <td>20</td>\n",
       "      <td>3</td>\n",
       "      <td>1</td>\n",
       "      <td>62</td>\n",
       "      <td>0.37</td>\n",
       "      <td>0.048387</td>\n",
       "      <td>Jan</td>\n",
       "      <td>2018</td>\n",
       "      <td>5</td>\n",
       "      <td>Friday</td>\n",
       "      <td>0.003</td>\n",
       "    </tr>\n",
       "  </tbody>\n",
       "</table>\n",
       "</div>"
      ],
      "text/plain": [
       "   Unnamed: 0        Date  No Of Sessions  Unique Drivers  No. of Ports  \\\n",
       "0           0  2018-01-01               1               1            16   \n",
       "1           1  2018-01-02               2               1            16   \n",
       "2           2  2018-01-03               3               3            18   \n",
       "3           3  2018-01-04               6               6            20   \n",
       "4           4  2018-01-05               2               2            20   \n",
       "\n",
       "   Energy (kWh)  GHG savings (kg)  Charge time (minutes)  \\\n",
       "0             7                 3                    123   \n",
       "1            18                 7                     24   \n",
       "2            11                 5                    376   \n",
       "3            50                21                    406   \n",
       "4             3                 1                     62   \n",
       "\n",
       "   Gasoline Savings (gallons)  Speed_energy_transmittion Month  Year  day  \\\n",
       "0                        0.82                   0.056911   Jan  2018    1   \n",
       "1                        0.31                   0.750000   Jan  2018    2   \n",
       "2                        3.30                   0.029255   Jan  2018    3   \n",
       "3                        3.59                   0.123153   Jan  2018    4   \n",
       "4                        0.37                   0.048387   Jan  2018    5   \n",
       "\n",
       "   week_days  Energy (MWh)  \n",
       "0     Monday         0.007  \n",
       "1    Tuesday         0.018  \n",
       "2  Wednesday         0.011  \n",
       "3   Thursday         0.050  \n",
       "4     Friday         0.003  "
      ]
     },
     "execution_count": 324,
     "metadata": {},
     "output_type": "execute_result"
    }
   ],
   "source": [
    "data.head()"
   ]
  },
  {
   "cell_type": "code",
   "execution_count": 325,
   "metadata": {},
   "outputs": [
    {
     "data": {
      "text/plain": [
       "(606, 15)"
      ]
     },
     "execution_count": 325,
     "metadata": {},
     "output_type": "execute_result"
    }
   ],
   "source": [
    "data.shape"
   ]
  },
  {
   "cell_type": "markdown",
   "metadata": {},
   "source": [
    "606 columns and 15 rows"
   ]
  },
  {
   "cell_type": "code",
   "execution_count": 326,
   "metadata": {},
   "outputs": [
    {
     "data": {
      "text/plain": [
       "0"
      ]
     },
     "execution_count": 326,
     "metadata": {},
     "output_type": "execute_result"
    }
   ],
   "source": [
    "data.duplicated().sum()"
   ]
  },
  {
   "cell_type": "code",
   "execution_count": 327,
   "metadata": {},
   "outputs": [
    {
     "data": {
      "text/plain": [
       "Unnamed: 0                    0\n",
       "Date                          0\n",
       "No Of Sessions                0\n",
       "Unique Drivers                0\n",
       "No. of Ports                  0\n",
       "Energy (kWh)                  0\n",
       "GHG savings (kg)              0\n",
       "Charge time (minutes)         0\n",
       "Gasoline Savings (gallons)    0\n",
       "Speed_energy_transmittion     0\n",
       "Month                         0\n",
       "Year                          0\n",
       "day                           0\n",
       "week_days                     0\n",
       "Energy (MWh)                  0\n",
       "dtype: int64"
      ]
     },
     "execution_count": 327,
     "metadata": {},
     "output_type": "execute_result"
    }
   ],
   "source": [
    "data.isna().sum()"
   ]
  },
  {
   "cell_type": "code",
   "execution_count": 328,
   "metadata": {},
   "outputs": [
    {
     "data": {
      "text/plain": [
       "<matplotlib.axes._subplots.AxesSubplot at 0x7f9f6f78e2e8>"
      ]
     },
     "execution_count": 328,
     "metadata": {},
     "output_type": "execute_result"
    },
    {
     "data": {
      "image/png": "[encoded data removed]",
      "text/plain": [
       "<Figure size 432x288 with 2 Axes>"
      ]
     },
     "metadata": {
      "needs_background": "light"
     },
     "output_type": "display_data"
    }
   ],
   "source": [
    "\n",
    "sns.heatmap(data.corr())"
   ]
  },
  {
   "cell_type": "code",
   "execution_count": 329,
   "metadata": {},
   "outputs": [
    {
     "data": {
      "text/plain": [
       "Index(['Unnamed: 0', 'Date', 'No Of Sessions', 'Unique Drivers',\n",
       "       'No. of Ports', 'Energy (kWh)', 'GHG savings (kg)',\n",
       "       'Charge time (minutes)', 'Gasoline Savings (gallons)',\n",
       "       'Speed_energy_transmittion', 'Month', 'Year', 'day', 'week_days',\n",
       "       'Energy (MWh)'],\n",
       "      dtype='object')"
      ]
     },
     "execution_count": 329,
     "metadata": {},
     "output_type": "execute_result"
    }
   ],
   "source": [
    "data.columns"
   ]
  },
  {
   "cell_type": "code",
   "execution_count": 330,
   "metadata": {},
   "outputs": [
    {
     "data": {
      "text/plain": [
       "'2018-01-01'"
      ]
     },
     "execution_count": 330,
     "metadata": {},
     "output_type": "execute_result"
    }
   ],
   "source": [
    "data['Date'].min()"
   ]
  },
  {
   "cell_type": "code",
   "execution_count": 331,
   "metadata": {},
   "outputs": [
    {
     "data": {
      "text/plain": [
       "'2019-08-29'"
      ]
     },
     "execution_count": 331,
     "metadata": {},
     "output_type": "execute_result"
    }
   ],
   "source": [
    "data['Date'].max()"
   ]
  },
  {
   "cell_type": "markdown",
   "metadata": {},
   "source": [
    "data is from jan 1 2018 to 30 aug 2019."
   ]
  },
  {
   "cell_type": "code",
   "execution_count": 332,
   "metadata": {},
   "outputs": [
    {
     "data": {
      "text/html": [
       "<div>\n",
       "<style scoped>\n",
       "    .dataframe tbody tr th:only-of-type {\n",
       "        vertical-align: middle;\n",
       "    }\n",
       "\n",
       "    .dataframe tbody tr th {\n",
       "        vertical-align: top;\n",
       "    }\n",
       "\n",
       "    .dataframe thead th {\n",
       "        text-align: right;\n",
       "    }\n",
       "</style>\n",
       "<table border=\"1\" class=\"dataframe\">\n",
       "  <thead>\n",
       "    <tr style=\"text-align: right;\">\n",
       "      <th></th>\n",
       "      <th>Unnamed: 0</th>\n",
       "      <th>Date</th>\n",
       "      <th>No Of Sessions</th>\n",
       "      <th>Unique Drivers</th>\n",
       "      <th>No. of Ports</th>\n",
       "      <th>Energy (kWh)</th>\n",
       "      <th>GHG savings (kg)</th>\n",
       "      <th>Charge time (minutes)</th>\n",
       "      <th>Gasoline Savings (gallons)</th>\n",
       "      <th>Speed_energy_transmittion</th>\n",
       "      <th>Month</th>\n",
       "      <th>Year</th>\n",
       "      <th>day</th>\n",
       "      <th>week_days</th>\n",
       "      <th>Energy (MWh)</th>\n",
       "    </tr>\n",
       "  </thead>\n",
       "  <tbody>\n",
       "    <tr>\n",
       "      <td>0</td>\n",
       "      <td>0</td>\n",
       "      <td>2018-01-01</td>\n",
       "      <td>1</td>\n",
       "      <td>1</td>\n",
       "      <td>16</td>\n",
       "      <td>7</td>\n",
       "      <td>3</td>\n",
       "      <td>123</td>\n",
       "      <td>0.82</td>\n",
       "      <td>0.056911</td>\n",
       "      <td>Jan</td>\n",
       "      <td>2018</td>\n",
       "      <td>1</td>\n",
       "      <td>Monday</td>\n",
       "      <td>0.007</td>\n",
       "    </tr>\n",
       "    <tr>\n",
       "      <td>1</td>\n",
       "      <td>1</td>\n",
       "      <td>2018-01-02</td>\n",
       "      <td>2</td>\n",
       "      <td>1</td>\n",
       "      <td>16</td>\n",
       "      <td>18</td>\n",
       "      <td>7</td>\n",
       "      <td>24</td>\n",
       "      <td>0.31</td>\n",
       "      <td>0.750000</td>\n",
       "      <td>Jan</td>\n",
       "      <td>2018</td>\n",
       "      <td>2</td>\n",
       "      <td>Tuesday</td>\n",
       "      <td>0.018</td>\n",
       "    </tr>\n",
       "    <tr>\n",
       "      <td>2</td>\n",
       "      <td>2</td>\n",
       "      <td>2018-01-03</td>\n",
       "      <td>3</td>\n",
       "      <td>3</td>\n",
       "      <td>18</td>\n",
       "      <td>11</td>\n",
       "      <td>5</td>\n",
       "      <td>376</td>\n",
       "      <td>3.30</td>\n",
       "      <td>0.029255</td>\n",
       "      <td>Jan</td>\n",
       "      <td>2018</td>\n",
       "      <td>3</td>\n",
       "      <td>Wednesday</td>\n",
       "      <td>0.011</td>\n",
       "    </tr>\n",
       "    <tr>\n",
       "      <td>3</td>\n",
       "      <td>3</td>\n",
       "      <td>2018-01-04</td>\n",
       "      <td>6</td>\n",
       "      <td>6</td>\n",
       "      <td>20</td>\n",
       "      <td>50</td>\n",
       "      <td>21</td>\n",
       "      <td>406</td>\n",
       "      <td>3.59</td>\n",
       "      <td>0.123153</td>\n",
       "      <td>Jan</td>\n",
       "      <td>2018</td>\n",
       "      <td>4</td>\n",
       "      <td>Thursday</td>\n",
       "      <td>0.050</td>\n",
       "    </tr>\n",
       "  </tbody>\n",
       "</table>\n",
       "</div>"
      ],
      "text/plain": [
       "   Unnamed: 0        Date  No Of Sessions  Unique Drivers  No. of Ports  \\\n",
       "0           0  2018-01-01               1               1            16   \n",
       "1           1  2018-01-02               2               1            16   \n",
       "2           2  2018-01-03               3               3            18   \n",
       "3           3  2018-01-04               6               6            20   \n",
       "\n",
       "   Energy (kWh)  GHG savings (kg)  Charge time (minutes)  \\\n",
       "0             7                 3                    123   \n",
       "1            18                 7                     24   \n",
       "2            11                 5                    376   \n",
       "3            50                21                    406   \n",
       "\n",
       "   Gasoline Savings (gallons)  Speed_energy_transmittion Month  Year  day  \\\n",
       "0                        0.82                   0.056911   Jan  2018    1   \n",
       "1                        0.31                   0.750000   Jan  2018    2   \n",
       "2                        3.30                   0.029255   Jan  2018    3   \n",
       "3                        3.59                   0.123153   Jan  2018    4   \n",
       "\n",
       "   week_days  Energy (MWh)  \n",
       "0     Monday         0.007  \n",
       "1    Tuesday         0.018  \n",
       "2  Wednesday         0.011  \n",
       "3   Thursday         0.050  "
      ]
     },
     "execution_count": 332,
     "metadata": {},
     "output_type": "execute_result"
    }
   ],
   "source": [
    "data.head(4)"
   ]
  },
  {
   "cell_type": "code",
   "execution_count": 333,
   "metadata": {},
   "outputs": [],
   "source": [
    "data = data.drop(['Date','Unnamed: 0'],axis = 1)"
   ]
  },
  {
   "cell_type": "code",
   "execution_count": 334,
   "metadata": {},
   "outputs": [],
   "source": [
    "data = data.rename(columns={\"No Of Sessions\": \"No_Of_Sessions\", \"Unique Drivers\": \"Unique_Drivers\",\"No. of Ports\":\"No_of_ports\",\"Energy (kWh)\":\"Energy_kwh\",\"GHG savings (kg)\":\"GHG_savings_kg\",\"Charge time (minutes)\":\"Charge_time\",\"Gasoline Savings (gallons)\":\"Gasoline_Savings\"})"
   ]
  },
  {
   "cell_type": "code",
   "execution_count": 335,
   "metadata": {},
   "outputs": [
    {
     "data": {
      "text/html": [
       "<div>\n",
       "<style scoped>\n",
       "    .dataframe tbody tr th:only-of-type {\n",
       "        vertical-align: middle;\n",
       "    }\n",
       "\n",
       "    .dataframe tbody tr th {\n",
       "        vertical-align: top;\n",
       "    }\n",
       "\n",
       "    .dataframe thead th {\n",
       "        text-align: right;\n",
       "    }\n",
       "</style>\n",
       "<table border=\"1\" class=\"dataframe\">\n",
       "  <thead>\n",
       "    <tr style=\"text-align: right;\">\n",
       "      <th></th>\n",
       "      <th>No_Of_Sessions</th>\n",
       "      <th>Unique_Drivers</th>\n",
       "      <th>No_of_ports</th>\n",
       "      <th>Energy_kwh</th>\n",
       "      <th>GHG_savings_kg</th>\n",
       "      <th>Charge_time</th>\n",
       "      <th>Gasoline_Savings</th>\n",
       "      <th>Speed_energy_transmittion</th>\n",
       "      <th>Month</th>\n",
       "      <th>Year</th>\n",
       "      <th>day</th>\n",
       "      <th>week_days</th>\n",
       "      <th>Energy (MWh)</th>\n",
       "    </tr>\n",
       "  </thead>\n",
       "  <tbody>\n",
       "    <tr>\n",
       "      <td>0</td>\n",
       "      <td>1</td>\n",
       "      <td>1</td>\n",
       "      <td>16</td>\n",
       "      <td>7</td>\n",
       "      <td>3</td>\n",
       "      <td>123</td>\n",
       "      <td>0.820</td>\n",
       "      <td>0.056911</td>\n",
       "      <td>Jan</td>\n",
       "      <td>2018</td>\n",
       "      <td>1</td>\n",
       "      <td>Monday</td>\n",
       "      <td>0.007</td>\n",
       "    </tr>\n",
       "    <tr>\n",
       "      <td>1</td>\n",
       "      <td>2</td>\n",
       "      <td>1</td>\n",
       "      <td>16</td>\n",
       "      <td>18</td>\n",
       "      <td>7</td>\n",
       "      <td>24</td>\n",
       "      <td>0.310</td>\n",
       "      <td>0.750000</td>\n",
       "      <td>Jan</td>\n",
       "      <td>2018</td>\n",
       "      <td>2</td>\n",
       "      <td>Tuesday</td>\n",
       "      <td>0.018</td>\n",
       "    </tr>\n",
       "    <tr>\n",
       "      <td>2</td>\n",
       "      <td>3</td>\n",
       "      <td>3</td>\n",
       "      <td>18</td>\n",
       "      <td>11</td>\n",
       "      <td>5</td>\n",
       "      <td>376</td>\n",
       "      <td>3.300</td>\n",
       "      <td>0.029255</td>\n",
       "      <td>Jan</td>\n",
       "      <td>2018</td>\n",
       "      <td>3</td>\n",
       "      <td>Wednesday</td>\n",
       "      <td>0.011</td>\n",
       "    </tr>\n",
       "    <tr>\n",
       "      <td>3</td>\n",
       "      <td>6</td>\n",
       "      <td>6</td>\n",
       "      <td>20</td>\n",
       "      <td>50</td>\n",
       "      <td>21</td>\n",
       "      <td>406</td>\n",
       "      <td>3.590</td>\n",
       "      <td>0.123153</td>\n",
       "      <td>Jan</td>\n",
       "      <td>2018</td>\n",
       "      <td>4</td>\n",
       "      <td>Thursday</td>\n",
       "      <td>0.050</td>\n",
       "    </tr>\n",
       "    <tr>\n",
       "      <td>4</td>\n",
       "      <td>2</td>\n",
       "      <td>2</td>\n",
       "      <td>20</td>\n",
       "      <td>3</td>\n",
       "      <td>1</td>\n",
       "      <td>62</td>\n",
       "      <td>0.370</td>\n",
       "      <td>0.048387</td>\n",
       "      <td>Jan</td>\n",
       "      <td>2018</td>\n",
       "      <td>5</td>\n",
       "      <td>Friday</td>\n",
       "      <td>0.003</td>\n",
       "    </tr>\n",
       "    <tr>\n",
       "      <td>...</td>\n",
       "      <td>...</td>\n",
       "      <td>...</td>\n",
       "      <td>...</td>\n",
       "      <td>...</td>\n",
       "      <td>...</td>\n",
       "      <td>...</td>\n",
       "      <td>...</td>\n",
       "      <td>...</td>\n",
       "      <td>...</td>\n",
       "      <td>...</td>\n",
       "      <td>...</td>\n",
       "      <td>...</td>\n",
       "      <td>...</td>\n",
       "    </tr>\n",
       "    <tr>\n",
       "      <td>601</td>\n",
       "      <td>24</td>\n",
       "      <td>24</td>\n",
       "      <td>42</td>\n",
       "      <td>240</td>\n",
       "      <td>101</td>\n",
       "      <td>2658</td>\n",
       "      <td>30.111</td>\n",
       "      <td>0.090293</td>\n",
       "      <td>Aug</td>\n",
       "      <td>2019</td>\n",
       "      <td>25</td>\n",
       "      <td>Sunday</td>\n",
       "      <td>0.240</td>\n",
       "    </tr>\n",
       "    <tr>\n",
       "      <td>602</td>\n",
       "      <td>34</td>\n",
       "      <td>30</td>\n",
       "      <td>42</td>\n",
       "      <td>385</td>\n",
       "      <td>162</td>\n",
       "      <td>4310</td>\n",
       "      <td>48.358</td>\n",
       "      <td>0.089327</td>\n",
       "      <td>Aug</td>\n",
       "      <td>2019</td>\n",
       "      <td>26</td>\n",
       "      <td>Monday</td>\n",
       "      <td>0.385</td>\n",
       "    </tr>\n",
       "    <tr>\n",
       "      <td>603</td>\n",
       "      <td>36</td>\n",
       "      <td>34</td>\n",
       "      <td>42</td>\n",
       "      <td>343</td>\n",
       "      <td>144</td>\n",
       "      <td>4175</td>\n",
       "      <td>43.025</td>\n",
       "      <td>0.082156</td>\n",
       "      <td>Aug</td>\n",
       "      <td>2019</td>\n",
       "      <td>27</td>\n",
       "      <td>Tuesday</td>\n",
       "      <td>0.343</td>\n",
       "    </tr>\n",
       "    <tr>\n",
       "      <td>604</td>\n",
       "      <td>45</td>\n",
       "      <td>39</td>\n",
       "      <td>42</td>\n",
       "      <td>262</td>\n",
       "      <td>110</td>\n",
       "      <td>3829</td>\n",
       "      <td>32.870</td>\n",
       "      <td>0.068425</td>\n",
       "      <td>Aug</td>\n",
       "      <td>2019</td>\n",
       "      <td>28</td>\n",
       "      <td>Wednesday</td>\n",
       "      <td>0.262</td>\n",
       "    </tr>\n",
       "    <tr>\n",
       "      <td>605</td>\n",
       "      <td>34</td>\n",
       "      <td>26</td>\n",
       "      <td>42</td>\n",
       "      <td>199</td>\n",
       "      <td>83</td>\n",
       "      <td>2808</td>\n",
       "      <td>24.931</td>\n",
       "      <td>0.070869</td>\n",
       "      <td>Aug</td>\n",
       "      <td>2019</td>\n",
       "      <td>29</td>\n",
       "      <td>Thursday</td>\n",
       "      <td>0.199</td>\n",
       "    </tr>\n",
       "  </tbody>\n",
       "</table>\n",
       "<p>606 rows × 13 columns</p>\n",
       "</div>"
      ],
      "text/plain": [
       "     No_Of_Sessions  Unique_Drivers  No_of_ports  Energy_kwh  GHG_savings_kg  \\\n",
       "0                 1               1           16           7               3   \n",
       "1                 2               1           16          18               7   \n",
       "2                 3               3           18          11               5   \n",
       "3                 6               6           20          50              21   \n",
       "4                 2               2           20           3               1   \n",
       "..              ...             ...          ...         ...             ...   \n",
       "601              24              24           42         240             101   \n",
       "602              34              30           42         385             162   \n",
       "603              36              34           42         343             144   \n",
       "604              45              39           42         262             110   \n",
       "605              34              26           42         199              83   \n",
       "\n",
       "     Charge_time  Gasoline_Savings  Speed_energy_transmittion Month  Year  \\\n",
       "0            123             0.820                   0.056911   Jan  2018   \n",
       "1             24             0.310                   0.750000   Jan  2018   \n",
       "2            376             3.300                   0.029255   Jan  2018   \n",
       "3            406             3.590                   0.123153   Jan  2018   \n",
       "4             62             0.370                   0.048387   Jan  2018   \n",
       "..           ...               ...                        ...   ...   ...   \n",
       "601         2658            30.111                   0.090293   Aug  2019   \n",
       "602         4310            48.358                   0.089327   Aug  2019   \n",
       "603         4175            43.025                   0.082156   Aug  2019   \n",
       "604         3829            32.870                   0.068425   Aug  2019   \n",
       "605         2808            24.931                   0.070869   Aug  2019   \n",
       "\n",
       "     day  week_days  Energy (MWh)  \n",
       "0      1     Monday         0.007  \n",
       "1      2    Tuesday         0.018  \n",
       "2      3  Wednesday         0.011  \n",
       "3      4   Thursday         0.050  \n",
       "4      5     Friday         0.003  \n",
       "..   ...        ...           ...  \n",
       "601   25     Sunday         0.240  \n",
       "602   26     Monday         0.385  \n",
       "603   27    Tuesday         0.343  \n",
       "604   28  Wednesday         0.262  \n",
       "605   29   Thursday         0.199  \n",
       "\n",
       "[606 rows x 13 columns]"
      ]
     },
     "execution_count": 335,
     "metadata": {},
     "output_type": "execute_result"
    }
   ],
   "source": [
    "data"
   ]
  },
  {
   "cell_type": "code",
   "execution_count": 336,
   "metadata": {},
   "outputs": [],
   "source": [
    "data['Year'] = pd.get_dummies(data['Year'])"
   ]
  },
  {
   "cell_type": "code",
   "execution_count": 337,
   "metadata": {},
   "outputs": [],
   "source": [
    "#categorical encoding\n",
    "Months = pd.get_dummies(data['Month'])"
   ]
  },
  {
   "cell_type": "code",
   "execution_count": 338,
   "metadata": {},
   "outputs": [
    {
     "data": {
      "text/html": [
       "<div>\n",
       "<style scoped>\n",
       "    .dataframe tbody tr th:only-of-type {\n",
       "        vertical-align: middle;\n",
       "    }\n",
       "\n",
       "    .dataframe tbody tr th {\n",
       "        vertical-align: top;\n",
       "    }\n",
       "\n",
       "    .dataframe thead th {\n",
       "        text-align: right;\n",
       "    }\n",
       "</style>\n",
       "<table border=\"1\" class=\"dataframe\">\n",
       "  <thead>\n",
       "    <tr style=\"text-align: right;\">\n",
       "      <th></th>\n",
       "      <th>Apr</th>\n",
       "      <th>Aug</th>\n",
       "      <th>Dec</th>\n",
       "      <th>Feb</th>\n",
       "      <th>Jan</th>\n",
       "      <th>Jul</th>\n",
       "      <th>Jun</th>\n",
       "      <th>Mar</th>\n",
       "      <th>May</th>\n",
       "      <th>Nov</th>\n",
       "      <th>Oct</th>\n",
       "      <th>Sep</th>\n",
       "    </tr>\n",
       "  </thead>\n",
       "  <tbody>\n",
       "    <tr>\n",
       "      <td>0</td>\n",
       "      <td>0</td>\n",
       "      <td>0</td>\n",
       "      <td>0</td>\n",
       "      <td>0</td>\n",
       "      <td>1</td>\n",
       "      <td>0</td>\n",
       "      <td>0</td>\n",
       "      <td>0</td>\n",
       "      <td>0</td>\n",
       "      <td>0</td>\n",
       "      <td>0</td>\n",
       "      <td>0</td>\n",
       "    </tr>\n",
       "    <tr>\n",
       "      <td>1</td>\n",
       "      <td>0</td>\n",
       "      <td>0</td>\n",
       "      <td>0</td>\n",
       "      <td>0</td>\n",
       "      <td>1</td>\n",
       "      <td>0</td>\n",
       "      <td>0</td>\n",
       "      <td>0</td>\n",
       "      <td>0</td>\n",
       "      <td>0</td>\n",
       "      <td>0</td>\n",
       "      <td>0</td>\n",
       "    </tr>\n",
       "    <tr>\n",
       "      <td>2</td>\n",
       "      <td>0</td>\n",
       "      <td>0</td>\n",
       "      <td>0</td>\n",
       "      <td>0</td>\n",
       "      <td>1</td>\n",
       "      <td>0</td>\n",
       "      <td>0</td>\n",
       "      <td>0</td>\n",
       "      <td>0</td>\n",
       "      <td>0</td>\n",
       "      <td>0</td>\n",
       "      <td>0</td>\n",
       "    </tr>\n",
       "    <tr>\n",
       "      <td>3</td>\n",
       "      <td>0</td>\n",
       "      <td>0</td>\n",
       "      <td>0</td>\n",
       "      <td>0</td>\n",
       "      <td>1</td>\n",
       "      <td>0</td>\n",
       "      <td>0</td>\n",
       "      <td>0</td>\n",
       "      <td>0</td>\n",
       "      <td>0</td>\n",
       "      <td>0</td>\n",
       "      <td>0</td>\n",
       "    </tr>\n",
       "    <tr>\n",
       "      <td>4</td>\n",
       "      <td>0</td>\n",
       "      <td>0</td>\n",
       "      <td>0</td>\n",
       "      <td>0</td>\n",
       "      <td>1</td>\n",
       "      <td>0</td>\n",
       "      <td>0</td>\n",
       "      <td>0</td>\n",
       "      <td>0</td>\n",
       "      <td>0</td>\n",
       "      <td>0</td>\n",
       "      <td>0</td>\n",
       "    </tr>\n",
       "    <tr>\n",
       "      <td>...</td>\n",
       "      <td>...</td>\n",
       "      <td>...</td>\n",
       "      <td>...</td>\n",
       "      <td>...</td>\n",
       "      <td>...</td>\n",
       "      <td>...</td>\n",
       "      <td>...</td>\n",
       "      <td>...</td>\n",
       "      <td>...</td>\n",
       "      <td>...</td>\n",
       "      <td>...</td>\n",
       "      <td>...</td>\n",
       "    </tr>\n",
       "    <tr>\n",
       "      <td>601</td>\n",
       "      <td>0</td>\n",
       "      <td>1</td>\n",
       "      <td>0</td>\n",
       "      <td>0</td>\n",
       "      <td>0</td>\n",
       "      <td>0</td>\n",
       "      <td>0</td>\n",
       "      <td>0</td>\n",
       "      <td>0</td>\n",
       "      <td>0</td>\n",
       "      <td>0</td>\n",
       "      <td>0</td>\n",
       "    </tr>\n",
       "    <tr>\n",
       "      <td>602</td>\n",
       "      <td>0</td>\n",
       "      <td>1</td>\n",
       "      <td>0</td>\n",
       "      <td>0</td>\n",
       "      <td>0</td>\n",
       "      <td>0</td>\n",
       "      <td>0</td>\n",
       "      <td>0</td>\n",
       "      <td>0</td>\n",
       "      <td>0</td>\n",
       "      <td>0</td>\n",
       "      <td>0</td>\n",
       "    </tr>\n",
       "    <tr>\n",
       "      <td>603</td>\n",
       "      <td>0</td>\n",
       "      <td>1</td>\n",
       "      <td>0</td>\n",
       "      <td>0</td>\n",
       "      <td>0</td>\n",
       "      <td>0</td>\n",
       "      <td>0</td>\n",
       "      <td>0</td>\n",
       "      <td>0</td>\n",
       "      <td>0</td>\n",
       "      <td>0</td>\n",
       "      <td>0</td>\n",
       "    </tr>\n",
       "    <tr>\n",
       "      <td>604</td>\n",
       "      <td>0</td>\n",
       "      <td>1</td>\n",
       "      <td>0</td>\n",
       "      <td>0</td>\n",
       "      <td>0</td>\n",
       "      <td>0</td>\n",
       "      <td>0</td>\n",
       "      <td>0</td>\n",
       "      <td>0</td>\n",
       "      <td>0</td>\n",
       "      <td>0</td>\n",
       "      <td>0</td>\n",
       "    </tr>\n",
       "    <tr>\n",
       "      <td>605</td>\n",
       "      <td>0</td>\n",
       "      <td>1</td>\n",
       "      <td>0</td>\n",
       "      <td>0</td>\n",
       "      <td>0</td>\n",
       "      <td>0</td>\n",
       "      <td>0</td>\n",
       "      <td>0</td>\n",
       "      <td>0</td>\n",
       "      <td>0</td>\n",
       "      <td>0</td>\n",
       "      <td>0</td>\n",
       "    </tr>\n",
       "  </tbody>\n",
       "</table>\n",
       "<p>606 rows × 12 columns</p>\n",
       "</div>"
      ],
      "text/plain": [
       "     Apr  Aug  Dec  Feb  Jan  Jul  Jun  Mar  May  Nov  Oct  Sep\n",
       "0      0    0    0    0    1    0    0    0    0    0    0    0\n",
       "1      0    0    0    0    1    0    0    0    0    0    0    0\n",
       "2      0    0    0    0    1    0    0    0    0    0    0    0\n",
       "3      0    0    0    0    1    0    0    0    0    0    0    0\n",
       "4      0    0    0    0    1    0    0    0    0    0    0    0\n",
       "..   ...  ...  ...  ...  ...  ...  ...  ...  ...  ...  ...  ...\n",
       "601    0    1    0    0    0    0    0    0    0    0    0    0\n",
       "602    0    1    0    0    0    0    0    0    0    0    0    0\n",
       "603    0    1    0    0    0    0    0    0    0    0    0    0\n",
       "604    0    1    0    0    0    0    0    0    0    0    0    0\n",
       "605    0    1    0    0    0    0    0    0    0    0    0    0\n",
       "\n",
       "[606 rows x 12 columns]"
      ]
     },
     "execution_count": 338,
     "metadata": {},
     "output_type": "execute_result"
    }
   ],
   "source": [
    "Months"
   ]
  },
  {
   "cell_type": "code",
   "execution_count": 339,
   "metadata": {},
   "outputs": [],
   "source": [
    "weekdays = pd.get_dummies(data['week_days'])"
   ]
  },
  {
   "cell_type": "code",
   "execution_count": 340,
   "metadata": {},
   "outputs": [
    {
     "data": {
      "text/html": [
       "<div>\n",
       "<style scoped>\n",
       "    .dataframe tbody tr th:only-of-type {\n",
       "        vertical-align: middle;\n",
       "    }\n",
       "\n",
       "    .dataframe tbody tr th {\n",
       "        vertical-align: top;\n",
       "    }\n",
       "\n",
       "    .dataframe thead th {\n",
       "        text-align: right;\n",
       "    }\n",
       "</style>\n",
       "<table border=\"1\" class=\"dataframe\">\n",
       "  <thead>\n",
       "    <tr style=\"text-align: right;\">\n",
       "      <th></th>\n",
       "      <th>Friday</th>\n",
       "      <th>Monday</th>\n",
       "      <th>Saturday</th>\n",
       "      <th>Sunday</th>\n",
       "      <th>Thursday</th>\n",
       "      <th>Tuesday</th>\n",
       "      <th>Wednesday</th>\n",
       "    </tr>\n",
       "  </thead>\n",
       "  <tbody>\n",
       "    <tr>\n",
       "      <td>0</td>\n",
       "      <td>0</td>\n",
       "      <td>1</td>\n",
       "      <td>0</td>\n",
       "      <td>0</td>\n",
       "      <td>0</td>\n",
       "      <td>0</td>\n",
       "      <td>0</td>\n",
       "    </tr>\n",
       "    <tr>\n",
       "      <td>1</td>\n",
       "      <td>0</td>\n",
       "      <td>0</td>\n",
       "      <td>0</td>\n",
       "      <td>0</td>\n",
       "      <td>0</td>\n",
       "      <td>1</td>\n",
       "      <td>0</td>\n",
       "    </tr>\n",
       "    <tr>\n",
       "      <td>2</td>\n",
       "      <td>0</td>\n",
       "      <td>0</td>\n",
       "      <td>0</td>\n",
       "      <td>0</td>\n",
       "      <td>0</td>\n",
       "      <td>0</td>\n",
       "      <td>1</td>\n",
       "    </tr>\n",
       "    <tr>\n",
       "      <td>3</td>\n",
       "      <td>0</td>\n",
       "      <td>0</td>\n",
       "      <td>0</td>\n",
       "      <td>0</td>\n",
       "      <td>1</td>\n",
       "      <td>0</td>\n",
       "      <td>0</td>\n",
       "    </tr>\n",
       "    <tr>\n",
       "      <td>4</td>\n",
       "      <td>1</td>\n",
       "      <td>0</td>\n",
       "      <td>0</td>\n",
       "      <td>0</td>\n",
       "      <td>0</td>\n",
       "      <td>0</td>\n",
       "      <td>0</td>\n",
       "    </tr>\n",
       "    <tr>\n",
       "      <td>...</td>\n",
       "      <td>...</td>\n",
       "      <td>...</td>\n",
       "      <td>...</td>\n",
       "      <td>...</td>\n",
       "      <td>...</td>\n",
       "      <td>...</td>\n",
       "      <td>...</td>\n",
       "    </tr>\n",
       "    <tr>\n",
       "      <td>601</td>\n",
       "      <td>0</td>\n",
       "      <td>0</td>\n",
       "      <td>0</td>\n",
       "      <td>1</td>\n",
       "      <td>0</td>\n",
       "      <td>0</td>\n",
       "      <td>0</td>\n",
       "    </tr>\n",
       "    <tr>\n",
       "      <td>602</td>\n",
       "      <td>0</td>\n",
       "      <td>1</td>\n",
       "      <td>0</td>\n",
       "      <td>0</td>\n",
       "      <td>0</td>\n",
       "      <td>0</td>\n",
       "      <td>0</td>\n",
       "    </tr>\n",
       "    <tr>\n",
       "      <td>603</td>\n",
       "      <td>0</td>\n",
       "      <td>0</td>\n",
       "      <td>0</td>\n",
       "      <td>0</td>\n",
       "      <td>0</td>\n",
       "      <td>1</td>\n",
       "      <td>0</td>\n",
       "    </tr>\n",
       "    <tr>\n",
       "      <td>604</td>\n",
       "      <td>0</td>\n",
       "      <td>0</td>\n",
       "      <td>0</td>\n",
       "      <td>0</td>\n",
       "      <td>0</td>\n",
       "      <td>0</td>\n",
       "      <td>1</td>\n",
       "    </tr>\n",
       "    <tr>\n",
       "      <td>605</td>\n",
       "      <td>0</td>\n",
       "      <td>0</td>\n",
       "      <td>0</td>\n",
       "      <td>0</td>\n",
       "      <td>1</td>\n",
       "      <td>0</td>\n",
       "      <td>0</td>\n",
       "    </tr>\n",
       "  </tbody>\n",
       "</table>\n",
       "<p>606 rows × 7 columns</p>\n",
       "</div>"
      ],
      "text/plain": [
       "     Friday  Monday  Saturday  Sunday  Thursday  Tuesday  Wednesday\n",
       "0         0       1         0       0         0        0          0\n",
       "1         0       0         0       0         0        1          0\n",
       "2         0       0         0       0         0        0          1\n",
       "3         0       0         0       0         1        0          0\n",
       "4         1       0         0       0         0        0          0\n",
       "..      ...     ...       ...     ...       ...      ...        ...\n",
       "601       0       0         0       1         0        0          0\n",
       "602       0       1         0       0         0        0          0\n",
       "603       0       0         0       0         0        1          0\n",
       "604       0       0         0       0         0        0          1\n",
       "605       0       0         0       0         1        0          0\n",
       "\n",
       "[606 rows x 7 columns]"
      ]
     },
     "execution_count": 340,
     "metadata": {},
     "output_type": "execute_result"
    }
   ],
   "source": [
    "#one hot encoding\n",
    "weekdays"
   ]
  },
  {
   "cell_type": "code",
   "execution_count": 341,
   "metadata": {},
   "outputs": [],
   "source": [
    "data = pd.concat([data,Months,weekdays],axis = 1)\n",
    "data  = data.drop(['Month','week_days','Energy (MWh)'],axis = 1)"
   ]
  },
  {
   "cell_type": "code",
   "execution_count": 342,
   "metadata": {},
   "outputs": [
    {
     "data": {
      "text/plain": [
       "Index(['No_Of_Sessions', 'Unique_Drivers', 'No_of_ports', 'Energy_kwh',\n",
       "       'GHG_savings_kg', 'Charge_time', 'Gasoline_Savings',\n",
       "       'Speed_energy_transmittion', 'Year', 'day', 'Apr', 'Aug', 'Dec', 'Feb',\n",
       "       'Jan', 'Jul', 'Jun', 'Mar', 'May', 'Nov', 'Oct', 'Sep', 'Friday',\n",
       "       'Monday', 'Saturday', 'Sunday', 'Thursday', 'Tuesday', 'Wednesday'],\n",
       "      dtype='object')"
      ]
     },
     "execution_count": 342,
     "metadata": {},
     "output_type": "execute_result"
    }
   ],
   "source": [
    "data.columns"
   ]
  },
  {
   "cell_type": "code",
   "execution_count": 343,
   "metadata": {},
   "outputs": [],
   "source": [
    "#decide variables\n",
    "x = data.drop(['GHG_savings_kg','Gasoline_Savings','Energy_kwh'],axis = 1)\n",
    "y = data['Energy_kwh']"
   ]
  },
  {
   "cell_type": "code",
   "execution_count": 344,
   "metadata": {},
   "outputs": [
    {
     "data": {
      "text/plain": [
       "Index(['No_Of_Sessions', 'Unique_Drivers', 'No_of_ports', 'Charge_time',\n",
       "       'Speed_energy_transmittion', 'Year', 'day', 'Apr', 'Aug', 'Dec', 'Feb',\n",
       "       'Jan', 'Jul', 'Jun', 'Mar', 'May', 'Nov', 'Oct', 'Sep', 'Friday',\n",
       "       'Monday', 'Saturday', 'Sunday', 'Thursday', 'Tuesday', 'Wednesday'],\n",
       "      dtype='object')"
      ]
     },
     "execution_count": 344,
     "metadata": {},
     "output_type": "execute_result"
    }
   ],
   "source": [
    "x.columns"
   ]
  },
  {
   "cell_type": "code",
   "execution_count": 345,
   "metadata": {},
   "outputs": [],
   "source": [
    "# Model building\n",
    "# train_test split\n",
    "import sklearn\n",
    "from sklearn.model_selection import train_test_split\n",
    "X_train,X_test,Y_train,Y_test = train_test_split(x,y,test_size = 0.3,random_state = 33)"
   ]
  },
  {
   "cell_type": "markdown",
   "metadata": {},
   "source": [
    "## Prediction Energy consumed"
   ]
  },
  {
   "cell_type": "markdown",
   "metadata": {},
   "source": [
    "### Linear Regression"
   ]
  },
  {
   "cell_type": "code",
   "execution_count": 346,
   "metadata": {},
   "outputs": [],
   "source": [
    "#linear regression\n",
    "from sklearn.linear_model import LinearRegression\n",
    "lr = LinearRegression()\n",
    "lr.fit(X_train,Y_train)\n",
    "y_pred_lr = lr.predict(X_test)"
   ]
  },
  {
   "cell_type": "code",
   "execution_count": 347,
   "metadata": {},
   "outputs": [
    {
     "data": {
      "text/plain": [
       "70.95952371128756"
      ]
     },
     "execution_count": 347,
     "metadata": {},
     "output_type": "execute_result"
    }
   ],
   "source": [
    "lr.score(X_test,Y_test)*100"
   ]
  },
  {
   "cell_type": "code",
   "execution_count": 348,
   "metadata": {},
   "outputs": [],
   "source": [
    "Engre = pd.DataFrame()\n",
    "Engre['Actual'] = Y_test\n",
    "Engre['Predicted'] = y_pred_lr"
   ]
  },
  {
   "cell_type": "code",
   "execution_count": 349,
   "metadata": {},
   "outputs": [
    {
     "name": "stdout",
     "output_type": "stream",
     "text": [
      "MAE:17.70598616894546\n",
      "MAPE:29.763252422467133\n",
      "RMSE:4.207848163722814\n"
     ]
    }
   ],
   "source": [
    "from sklearn.metrics import mean_absolute_error\n",
    "print('MAE:'+ str(mean_absolute_error(y_pred_lr, Y_test)))\n",
    "\n",
    "\n",
    "def mean_absolute_percentage_error(y_true, y_pred):\n",
    "   y_true, y_pred = np.array(y_true), np.array(y_pred)\n",
    "   return np.mean(np.abs((y_true - y_pred) / y_true)) * 100\n",
    "\n",
    "print(\"MAPE:\"+ str(mean_absolute_percentage_error(Engre['Actual'],Engre['Predicted'])))\n",
    "\n",
    "from math import sqrt\n",
    "print('RMSE:'+str(sqrt(mean_absolute_error(y_pred_lr,Y_test))))"
   ]
  },
  {
   "cell_type": "markdown",
   "metadata": {},
   "source": [
    "### RandomF regressor"
   ]
  },
  {
   "cell_type": "code",
   "execution_count": 350,
   "metadata": {},
   "outputs": [],
   "source": [
    "from sklearn.ensemble import RandomForestRegressor\n",
    "rfr  =RandomForestRegressor()\n",
    "rfr.fit(X_train,Y_train)\n",
    "y_pred_rfr = rfr.predict(X_test)"
   ]
  },
  {
   "cell_type": "code",
   "execution_count": 351,
   "metadata": {},
   "outputs": [
    {
     "data": {
      "text/plain": [
       "94.06715470261489"
      ]
     },
     "execution_count": 351,
     "metadata": {},
     "output_type": "execute_result"
    }
   ],
   "source": [
    "rfr.score(X_test,Y_test)*100"
   ]
  },
  {
   "cell_type": "code",
   "execution_count": 352,
   "metadata": {},
   "outputs": [],
   "source": [
    "Engre = pd.DataFrame()\n",
    "Engre['Actual'] = Y_test\n",
    "Engre['Predicted'] = y_pred_rfr"
   ]
  },
  {
   "cell_type": "code",
   "execution_count": 353,
   "metadata": {},
   "outputs": [
    {
     "name": "stdout",
     "output_type": "stream",
     "text": [
      "MAE:9.33021978021978\n",
      "MAPE:12.256431196863153\n",
      "RMSE:3.0545408460552266\n"
     ]
    }
   ],
   "source": [
    "from sklearn.metrics import mean_absolute_error\n",
    "print('MAE:'+ str(mean_absolute_error(y_pred_rfr, Y_test)))\n",
    "\n",
    "def mean_absolute_percentage_error(y_true, y_pred):\n",
    "   y_true, y_pred = np.array(y_true), np.array(y_pred)\n",
    "   return np.mean(np.abs((y_true - y_pred) / y_true)) * 100\n",
    "\n",
    "print(\"MAPE:\"+ str(mean_absolute_percentage_error(Engre['Actual'],Engre['Predicted'])))\n",
    "\n",
    "from math import sqrt\n",
    "print('RMSE:'+str(sqrt(mean_absolute_error(y_pred_rfr,Y_test))))"
   ]
  },
  {
   "cell_type": "markdown",
   "metadata": {},
   "source": [
    "### Lasso Regression"
   ]
  },
  {
   "cell_type": "code",
   "execution_count": 354,
   "metadata": {},
   "outputs": [],
   "source": [
    "from sklearn.linear_model import Lasso\n",
    "l = Lasso()\n",
    "l.fit(X_train, Y_train)\n",
    "y_pred_l = l.predict(X_test)"
   ]
  },
  {
   "cell_type": "code",
   "execution_count": 355,
   "metadata": {},
   "outputs": [
    {
     "data": {
      "text/plain": [
       "84.01952796345043"
      ]
     },
     "execution_count": 355,
     "metadata": {},
     "output_type": "execute_result"
    }
   ],
   "source": [
    "l.score(X_test,Y_test)*100"
   ]
  },
  {
   "cell_type": "code",
   "execution_count": 356,
   "metadata": {},
   "outputs": [
    {
     "name": "stdout",
     "output_type": "stream",
     "text": [
      "MAE:21.056721819282377\n",
      "MSE:949.9457820430965\n",
      "RMSE:4.588760379370705\n"
     ]
    }
   ],
   "source": [
    "from sklearn.metrics import mean_absolute_error\n",
    "print('MAE:'+ str(mean_absolute_error(y_pred_l, Y_test)))\n",
    "\n",
    "from sklearn.metrics import mean_squared_error\n",
    "print('MSE:' +str(mean_squared_error(y_pred_l,Y_test)))\n",
    "\n",
    "from math import sqrt\n",
    "print('RMSE:'+str(sqrt(mean_absolute_error(y_pred_l,Y_test))))"
   ]
  },
  {
   "cell_type": "markdown",
   "metadata": {},
   "source": [
    "### XGB Regressor"
   ]
  },
  {
   "cell_type": "code",
   "execution_count": 357,
   "metadata": {},
   "outputs": [
    {
     "name": "stdout",
     "output_type": "stream",
     "text": [
      "[11:45:11] WARNING: /workspace/src/objective/regression_obj.cu:152: reg:linear is now deprecated in favor of reg:squarederror.\n"
     ]
    }
   ],
   "source": [
    "import xgboost as XGB\n",
    "xgb = XGB.XGBRegressor()\n",
    "xgb.fit(X_train,Y_train)\n",
    "y_pred_xgb = xgb.predict(X_test)"
   ]
  },
  {
   "cell_type": "code",
   "execution_count": 358,
   "metadata": {},
   "outputs": [
    {
     "data": {
      "text/plain": [
       "95.10132378806523"
      ]
     },
     "execution_count": 358,
     "metadata": {},
     "output_type": "execute_result"
    }
   ],
   "source": [
    "xgb.score(X_test,Y_test)*100"
   ]
  },
  {
   "cell_type": "code",
   "execution_count": 359,
   "metadata": {},
   "outputs": [
    {
     "name": "stdout",
     "output_type": "stream",
     "text": [
      "MAE:8.524924320179027\n",
      "MSE:291.1977064556753\n",
      "RMSE:2.9197473041650412\n"
     ]
    }
   ],
   "source": [
    "from sklearn.metrics import mean_absolute_error\n",
    "print('MAE:'+ str(mean_absolute_error(y_pred_xgb, Y_test)))\n",
    "\n",
    "from sklearn.metrics import mean_squared_error\n",
    "print('MSE:' +str(mean_squared_error(y_pred_xgb,Y_test)))\n",
    "\n",
    "from math import sqrt\n",
    "print('RMSE:'+str(sqrt(mean_absolute_error(y_pred_xgb,Y_test))))"
   ]
  },
  {
   "cell_type": "markdown",
   "metadata": {},
   "source": [
    "## VIF"
   ]
  },
  {
   "cell_type": "markdown",
   "metadata": {},
   "source": [
    "VIF to check multicollinearity"
   ]
  },
  {
   "cell_type": "code",
   "execution_count": 360,
   "metadata": {},
   "outputs": [
    {
     "data": {
      "text/html": [
       "<div>\n",
       "<style scoped>\n",
       "    .dataframe tbody tr th:only-of-type {\n",
       "        vertical-align: middle;\n",
       "    }\n",
       "\n",
       "    .dataframe tbody tr th {\n",
       "        vertical-align: top;\n",
       "    }\n",
       "\n",
       "    .dataframe thead th {\n",
       "        text-align: right;\n",
       "    }\n",
       "</style>\n",
       "<table border=\"1\" class=\"dataframe\">\n",
       "  <thead>\n",
       "    <tr style=\"text-align: right;\">\n",
       "      <th></th>\n",
       "      <th>Vif</th>\n",
       "      <th>Variables</th>\n",
       "    </tr>\n",
       "  </thead>\n",
       "  <tbody>\n",
       "    <tr>\n",
       "      <td>0</td>\n",
       "      <td>11.376645</td>\n",
       "      <td>No_Of_Sessions</td>\n",
       "    </tr>\n",
       "    <tr>\n",
       "      <td>1</td>\n",
       "      <td>19.258644</td>\n",
       "      <td>Unique_Drivers</td>\n",
       "    </tr>\n",
       "    <tr>\n",
       "      <td>2</td>\n",
       "      <td>12.794232</td>\n",
       "      <td>No_of_ports</td>\n",
       "    </tr>\n",
       "    <tr>\n",
       "      <td>3</td>\n",
       "      <td>15.450954</td>\n",
       "      <td>GHG_savings_kg</td>\n",
       "    </tr>\n",
       "    <tr>\n",
       "      <td>4</td>\n",
       "      <td>37.624210</td>\n",
       "      <td>Charge_time</td>\n",
       "    </tr>\n",
       "    <tr>\n",
       "      <td>5</td>\n",
       "      <td>43.207951</td>\n",
       "      <td>Gasoline_Savings</td>\n",
       "    </tr>\n",
       "    <tr>\n",
       "      <td>6</td>\n",
       "      <td>1.429379</td>\n",
       "      <td>Speed_energy_transmittion</td>\n",
       "    </tr>\n",
       "    <tr>\n",
       "      <td>7</td>\n",
       "      <td>12.657276</td>\n",
       "      <td>Year</td>\n",
       "    </tr>\n",
       "    <tr>\n",
       "      <td>8</td>\n",
       "      <td>1.069368</td>\n",
       "      <td>day</td>\n",
       "    </tr>\n",
       "    <tr>\n",
       "      <td>9</td>\n",
       "      <td>inf</td>\n",
       "      <td>Apr</td>\n",
       "    </tr>\n",
       "    <tr>\n",
       "      <td>10</td>\n",
       "      <td>inf</td>\n",
       "      <td>Aug</td>\n",
       "    </tr>\n",
       "    <tr>\n",
       "      <td>11</td>\n",
       "      <td>inf</td>\n",
       "      <td>Dec</td>\n",
       "    </tr>\n",
       "    <tr>\n",
       "      <td>12</td>\n",
       "      <td>inf</td>\n",
       "      <td>Feb</td>\n",
       "    </tr>\n",
       "    <tr>\n",
       "      <td>13</td>\n",
       "      <td>inf</td>\n",
       "      <td>Jan</td>\n",
       "    </tr>\n",
       "    <tr>\n",
       "      <td>14</td>\n",
       "      <td>inf</td>\n",
       "      <td>Jul</td>\n",
       "    </tr>\n",
       "    <tr>\n",
       "      <td>15</td>\n",
       "      <td>inf</td>\n",
       "      <td>Jun</td>\n",
       "    </tr>\n",
       "    <tr>\n",
       "      <td>16</td>\n",
       "      <td>inf</td>\n",
       "      <td>Mar</td>\n",
       "    </tr>\n",
       "    <tr>\n",
       "      <td>17</td>\n",
       "      <td>inf</td>\n",
       "      <td>May</td>\n",
       "    </tr>\n",
       "    <tr>\n",
       "      <td>18</td>\n",
       "      <td>inf</td>\n",
       "      <td>Nov</td>\n",
       "    </tr>\n",
       "    <tr>\n",
       "      <td>19</td>\n",
       "      <td>inf</td>\n",
       "      <td>Oct</td>\n",
       "    </tr>\n",
       "    <tr>\n",
       "      <td>20</td>\n",
       "      <td>inf</td>\n",
       "      <td>Sep</td>\n",
       "    </tr>\n",
       "    <tr>\n",
       "      <td>21</td>\n",
       "      <td>inf</td>\n",
       "      <td>Friday</td>\n",
       "    </tr>\n",
       "    <tr>\n",
       "      <td>22</td>\n",
       "      <td>inf</td>\n",
       "      <td>Monday</td>\n",
       "    </tr>\n",
       "    <tr>\n",
       "      <td>23</td>\n",
       "      <td>inf</td>\n",
       "      <td>Saturday</td>\n",
       "    </tr>\n",
       "    <tr>\n",
       "      <td>24</td>\n",
       "      <td>inf</td>\n",
       "      <td>Sunday</td>\n",
       "    </tr>\n",
       "    <tr>\n",
       "      <td>25</td>\n",
       "      <td>inf</td>\n",
       "      <td>Thursday</td>\n",
       "    </tr>\n",
       "    <tr>\n",
       "      <td>26</td>\n",
       "      <td>inf</td>\n",
       "      <td>Tuesday</td>\n",
       "    </tr>\n",
       "    <tr>\n",
       "      <td>27</td>\n",
       "      <td>inf</td>\n",
       "      <td>Wednesday</td>\n",
       "    </tr>\n",
       "    <tr>\n",
       "      <td>28</td>\n",
       "      <td>0.000000</td>\n",
       "      <td>intercept</td>\n",
       "    </tr>\n",
       "  </tbody>\n",
       "</table>\n",
       "</div>"
      ],
      "text/plain": [
       "          Vif                  Variables\n",
       "0   11.376645             No_Of_Sessions\n",
       "1   19.258644             Unique_Drivers\n",
       "2   12.794232                No_of_ports\n",
       "3   15.450954             GHG_savings_kg\n",
       "4   37.624210                Charge_time\n",
       "5   43.207951           Gasoline_Savings\n",
       "6    1.429379  Speed_energy_transmittion\n",
       "7   12.657276                       Year\n",
       "8    1.069368                        day\n",
       "9         inf                        Apr\n",
       "10        inf                        Aug\n",
       "11        inf                        Dec\n",
       "12        inf                        Feb\n",
       "13        inf                        Jan\n",
       "14        inf                        Jul\n",
       "15        inf                        Jun\n",
       "16        inf                        Mar\n",
       "17        inf                        May\n",
       "18        inf                        Nov\n",
       "19        inf                        Oct\n",
       "20        inf                        Sep\n",
       "21        inf                     Friday\n",
       "22        inf                     Monday\n",
       "23        inf                   Saturday\n",
       "24        inf                     Sunday\n",
       "25        inf                   Thursday\n",
       "26        inf                    Tuesday\n",
       "27        inf                  Wednesday\n",
       "28   0.000000                  intercept"
      ]
     },
     "execution_count": 360,
     "metadata": {},
     "output_type": "execute_result"
    }
   ],
   "source": [
    "#check vif\n",
    "from statsmodels.stats.outliers_influence import variance_inflation_factor\n",
    "Xdata = data.drop('Energy_kwh',axis = 1).copy()\n",
    "Xdata['intercept']=1\n",
    "Xdata=Xdata\n",
    "vif=pd.DataFrame()\n",
    "vif['Vif']=[variance_inflation_factor(Xdata.values,i) for i in range(Xdata.shape[1])]\n",
    "vif['Variables']=Xdata.columns.values\n",
    "vif"
   ]
  },
  {
   "cell_type": "markdown",
   "metadata": {},
   "source": [
    "From here we can see that columns/features  like Gasoline_savings, GHG savings and Chargetime are highly correlated.\n",
    "hence in predicting the \"Energy consumed\", we excluded both the features Gasoline_savings and GHG_savings."
   ]
  },
  {
   "cell_type": "code",
   "execution_count": null,
   "metadata": {},
   "outputs": [],
   "source": []
  },
  {
   "cell_type": "markdown",
   "metadata": {},
   "source": [
    "### H2o"
   ]
  },
  {
   "cell_type": "code",
   "execution_count": 37,
   "metadata": {},
   "outputs": [
    {
     "name": "stdout",
     "output_type": "stream",
     "text": [
      "Checking whether there is an H2O instance running at http://localhost:54321 ..... not found.\n",
      "Attempting to start a local H2O server...\n",
      "  Java Version: java version \"12.0.2\" 2019-07-16; Java(TM) SE Runtime Environment (build 12.0.2+10); Java HotSpot(TM) 64-Bit Server VM (build 12.0.2+10, mixed mode, sharing)\n",
      "  Starting server from /home/purna/.local/lib/python3.6/site-packages/h2o/backend/bin/h2o.jar\n",
      "  Ice root: /tmp/tmpwtx1caof\n",
      "  JVM stdout: /tmp/tmpwtx1caof/h2o_purna_started_from_python.out\n",
      "  JVM stderr: /tmp/tmpwtx1caof/h2o_purna_started_from_python.err\n",
      "  Server is running at http://127.0.0.1:54321\n",
      "Connecting to H2O server at http://127.0.0.1:54321 ... successful.\n"
     ]
    },
    {
     "data": {
      "text/html": [
       "<div style=\"overflow:auto\"><table style=\"width:50%\"><tr><td>H2O cluster uptime:</td>\n",
       "<td>01 secs</td></tr>\n",
       "<tr><td>H2O cluster timezone:</td>\n",
       "<td>Asia/Kolkata</td></tr>\n",
       "<tr><td>H2O data parsing timezone:</td>\n",
       "<td>UTC</td></tr>\n",
       "<tr><td>H2O cluster version:</td>\n",
       "<td>3.26.0.6</td></tr>\n",
       "<tr><td>H2O cluster version age:</td>\n",
       "<td>11 days </td></tr>\n",
       "<tr><td>H2O cluster name:</td>\n",
       "<td>H2O_from_python_purna_uhu7an</td></tr>\n",
       "<tr><td>H2O cluster total nodes:</td>\n",
       "<td>1</td></tr>\n",
       "<tr><td>H2O cluster free memory:</td>\n",
       "<td>3.895 Gb</td></tr>\n",
       "<tr><td>H2O cluster total cores:</td>\n",
       "<td>4</td></tr>\n",
       "<tr><td>H2O cluster allowed cores:</td>\n",
       "<td>4</td></tr>\n",
       "<tr><td>H2O cluster status:</td>\n",
       "<td>accepting new members, healthy</td></tr>\n",
       "<tr><td>H2O connection url:</td>\n",
       "<td>http://127.0.0.1:54321</td></tr>\n",
       "<tr><td>H2O connection proxy:</td>\n",
       "<td>None</td></tr>\n",
       "<tr><td>H2O internal security:</td>\n",
       "<td>False</td></tr>\n",
       "<tr><td>H2O API Extensions:</td>\n",
       "<td>Amazon S3, XGBoost, Algos, AutoML, Core V3, TargetEncoder, Core V4</td></tr>\n",
       "<tr><td>Python version:</td>\n",
       "<td>3.6.8 final</td></tr></table></div>"
      ],
      "text/plain": [
       "--------------------------  ------------------------------------------------------------------\n",
       "H2O cluster uptime:         01 secs\n",
       "H2O cluster timezone:       Asia/Kolkata\n",
       "H2O data parsing timezone:  UTC\n",
       "H2O cluster version:        3.26.0.6\n",
       "H2O cluster version age:    11 days\n",
       "H2O cluster name:           H2O_from_python_purna_uhu7an\n",
       "H2O cluster total nodes:    1\n",
       "H2O cluster free memory:    3.895 Gb\n",
       "H2O cluster total cores:    4\n",
       "H2O cluster allowed cores:  4\n",
       "H2O cluster status:         accepting new members, healthy\n",
       "H2O connection url:         http://127.0.0.1:54321\n",
       "H2O connection proxy:\n",
       "H2O internal security:      False\n",
       "H2O API Extensions:         Amazon S3, XGBoost, Algos, AutoML, Core V3, TargetEncoder, Core V4\n",
       "Python version:             3.6.8 final\n",
       "--------------------------  ------------------------------------------------------------------"
      ]
     },
     "metadata": {},
     "output_type": "display_data"
    }
   ],
   "source": [
    "#H2O\n",
    "import h2o\n",
    "from h2o.automl import H2OAutoML\n",
    "h2o.init()"
   ]
  },
  {
   "cell_type": "code",
   "execution_count": 38,
   "metadata": {},
   "outputs": [],
   "source": [
    "data1 = pd.concat([x,y],axis = 1)\n",
    "data1.to_csv('h2data.csv')"
   ]
  },
  {
   "cell_type": "code",
   "execution_count": 39,
   "metadata": {},
   "outputs": [
    {
     "name": "stdout",
     "output_type": "stream",
     "text": [
      "Parse progress: |█████████████████████████████████████████████████████████| 100%\n"
     ]
    },
    {
     "data": {
      "text/html": [
       "<table>\n",
       "<thead>\n",
       "<tr><th style=\"text-align: right;\">  C1</th><th style=\"text-align: right;\">  No_Of_Sessions</th><th style=\"text-align: right;\">  Unique_Drivers</th><th style=\"text-align: right;\">  No_of_ports</th><th style=\"text-align: right;\">  Charge_time</th><th style=\"text-align: right;\">  Speed_energy_transmittion</th><th style=\"text-align: right;\">  Year</th><th style=\"text-align: right;\">  day</th><th style=\"text-align: right;\">  Apr</th><th style=\"text-align: right;\">  Aug</th><th style=\"text-align: right;\">  Dec</th><th style=\"text-align: right;\">  Feb</th><th style=\"text-align: right;\">  Jan</th><th style=\"text-align: right;\">  Jul</th><th style=\"text-align: right;\">  Jun</th><th style=\"text-align: right;\">  Mar</th><th style=\"text-align: right;\">  May</th><th style=\"text-align: right;\">  Nov</th><th style=\"text-align: right;\">  Oct</th><th style=\"text-align: right;\">  Sep</th><th style=\"text-align: right;\">  Friday</th><th style=\"text-align: right;\">  Monday</th><th style=\"text-align: right;\">  Saturday</th><th style=\"text-align: right;\">  Sunday</th><th style=\"text-align: right;\">  Thursday</th><th style=\"text-align: right;\">  Tuesday</th><th style=\"text-align: right;\">  Wednesday</th><th style=\"text-align: right;\">  Energy_kwh</th></tr>\n",
       "</thead>\n",
       "<tbody>\n",
       "<tr><td style=\"text-align: right;\">   0</td><td style=\"text-align: right;\">               1</td><td style=\"text-align: right;\">               1</td><td style=\"text-align: right;\">           16</td><td style=\"text-align: right;\">          123</td><td style=\"text-align: right;\">                  0.0569106</td><td style=\"text-align: right;\">     1</td><td style=\"text-align: right;\">    1</td><td style=\"text-align: right;\">    0</td><td style=\"text-align: right;\">    0</td><td style=\"text-align: right;\">    0</td><td style=\"text-align: right;\">    0</td><td style=\"text-align: right;\">    1</td><td style=\"text-align: right;\">    0</td><td style=\"text-align: right;\">    0</td><td style=\"text-align: right;\">    0</td><td style=\"text-align: right;\">    0</td><td style=\"text-align: right;\">    0</td><td style=\"text-align: right;\">    0</td><td style=\"text-align: right;\">    0</td><td style=\"text-align: right;\">       0</td><td style=\"text-align: right;\">       1</td><td style=\"text-align: right;\">         0</td><td style=\"text-align: right;\">       0</td><td style=\"text-align: right;\">         0</td><td style=\"text-align: right;\">        0</td><td style=\"text-align: right;\">          0</td><td style=\"text-align: right;\">           7</td></tr>\n",
       "<tr><td style=\"text-align: right;\">   1</td><td style=\"text-align: right;\">               2</td><td style=\"text-align: right;\">               1</td><td style=\"text-align: right;\">           16</td><td style=\"text-align: right;\">           24</td><td style=\"text-align: right;\">                  0.75     </td><td style=\"text-align: right;\">     1</td><td style=\"text-align: right;\">    2</td><td style=\"text-align: right;\">    0</td><td style=\"text-align: right;\">    0</td><td style=\"text-align: right;\">    0</td><td style=\"text-align: right;\">    0</td><td style=\"text-align: right;\">    1</td><td style=\"text-align: right;\">    0</td><td style=\"text-align: right;\">    0</td><td style=\"text-align: right;\">    0</td><td style=\"text-align: right;\">    0</td><td style=\"text-align: right;\">    0</td><td style=\"text-align: right;\">    0</td><td style=\"text-align: right;\">    0</td><td style=\"text-align: right;\">       0</td><td style=\"text-align: right;\">       0</td><td style=\"text-align: right;\">         0</td><td style=\"text-align: right;\">       0</td><td style=\"text-align: right;\">         0</td><td style=\"text-align: right;\">        1</td><td style=\"text-align: right;\">          0</td><td style=\"text-align: right;\">          18</td></tr>\n",
       "<tr><td style=\"text-align: right;\">   2</td><td style=\"text-align: right;\">               3</td><td style=\"text-align: right;\">               3</td><td style=\"text-align: right;\">           18</td><td style=\"text-align: right;\">          376</td><td style=\"text-align: right;\">                  0.0292553</td><td style=\"text-align: right;\">     1</td><td style=\"text-align: right;\">    3</td><td style=\"text-align: right;\">    0</td><td style=\"text-align: right;\">    0</td><td style=\"text-align: right;\">    0</td><td style=\"text-align: right;\">    0</td><td style=\"text-align: right;\">    1</td><td style=\"text-align: right;\">    0</td><td style=\"text-align: right;\">    0</td><td style=\"text-align: right;\">    0</td><td style=\"text-align: right;\">    0</td><td style=\"text-align: right;\">    0</td><td style=\"text-align: right;\">    0</td><td style=\"text-align: right;\">    0</td><td style=\"text-align: right;\">       0</td><td style=\"text-align: right;\">       0</td><td style=\"text-align: right;\">         0</td><td style=\"text-align: right;\">       0</td><td style=\"text-align: right;\">         0</td><td style=\"text-align: right;\">        0</td><td style=\"text-align: right;\">          1</td><td style=\"text-align: right;\">          11</td></tr>\n",
       "<tr><td style=\"text-align: right;\">   3</td><td style=\"text-align: right;\">               6</td><td style=\"text-align: right;\">               6</td><td style=\"text-align: right;\">           20</td><td style=\"text-align: right;\">          406</td><td style=\"text-align: right;\">                  0.123153 </td><td style=\"text-align: right;\">     1</td><td style=\"text-align: right;\">    4</td><td style=\"text-align: right;\">    0</td><td style=\"text-align: right;\">    0</td><td style=\"text-align: right;\">    0</td><td style=\"text-align: right;\">    0</td><td style=\"text-align: right;\">    1</td><td style=\"text-align: right;\">    0</td><td style=\"text-align: right;\">    0</td><td style=\"text-align: right;\">    0</td><td style=\"text-align: right;\">    0</td><td style=\"text-align: right;\">    0</td><td style=\"text-align: right;\">    0</td><td style=\"text-align: right;\">    0</td><td style=\"text-align: right;\">       0</td><td style=\"text-align: right;\">       0</td><td style=\"text-align: right;\">         0</td><td style=\"text-align: right;\">       0</td><td style=\"text-align: right;\">         1</td><td style=\"text-align: right;\">        0</td><td style=\"text-align: right;\">          0</td><td style=\"text-align: right;\">          50</td></tr>\n",
       "<tr><td style=\"text-align: right;\">   4</td><td style=\"text-align: right;\">               2</td><td style=\"text-align: right;\">               2</td><td style=\"text-align: right;\">           20</td><td style=\"text-align: right;\">           62</td><td style=\"text-align: right;\">                  0.0483871</td><td style=\"text-align: right;\">     1</td><td style=\"text-align: right;\">    5</td><td style=\"text-align: right;\">    0</td><td style=\"text-align: right;\">    0</td><td style=\"text-align: right;\">    0</td><td style=\"text-align: right;\">    0</td><td style=\"text-align: right;\">    1</td><td style=\"text-align: right;\">    0</td><td style=\"text-align: right;\">    0</td><td style=\"text-align: right;\">    0</td><td style=\"text-align: right;\">    0</td><td style=\"text-align: right;\">    0</td><td style=\"text-align: right;\">    0</td><td style=\"text-align: right;\">    0</td><td style=\"text-align: right;\">       1</td><td style=\"text-align: right;\">       0</td><td style=\"text-align: right;\">         0</td><td style=\"text-align: right;\">       0</td><td style=\"text-align: right;\">         0</td><td style=\"text-align: right;\">        0</td><td style=\"text-align: right;\">          0</td><td style=\"text-align: right;\">           3</td></tr>\n",
       "<tr><td style=\"text-align: right;\">   5</td><td style=\"text-align: right;\">               6</td><td style=\"text-align: right;\">               6</td><td style=\"text-align: right;\">           20</td><td style=\"text-align: right;\">          528</td><td style=\"text-align: right;\">                  0.0625   </td><td style=\"text-align: right;\">     1</td><td style=\"text-align: right;\">    6</td><td style=\"text-align: right;\">    0</td><td style=\"text-align: right;\">    0</td><td style=\"text-align: right;\">    0</td><td style=\"text-align: right;\">    0</td><td style=\"text-align: right;\">    1</td><td style=\"text-align: right;\">    0</td><td style=\"text-align: right;\">    0</td><td style=\"text-align: right;\">    0</td><td style=\"text-align: right;\">    0</td><td style=\"text-align: right;\">    0</td><td style=\"text-align: right;\">    0</td><td style=\"text-align: right;\">    0</td><td style=\"text-align: right;\">       0</td><td style=\"text-align: right;\">       0</td><td style=\"text-align: right;\">         1</td><td style=\"text-align: right;\">       0</td><td style=\"text-align: right;\">         0</td><td style=\"text-align: right;\">        0</td><td style=\"text-align: right;\">          0</td><td style=\"text-align: right;\">          33</td></tr>\n",
       "<tr><td style=\"text-align: right;\">   6</td><td style=\"text-align: right;\">               4</td><td style=\"text-align: right;\">               4</td><td style=\"text-align: right;\">           20</td><td style=\"text-align: right;\">          435</td><td style=\"text-align: right;\">                  0.0712644</td><td style=\"text-align: right;\">     1</td><td style=\"text-align: right;\">    7</td><td style=\"text-align: right;\">    0</td><td style=\"text-align: right;\">    0</td><td style=\"text-align: right;\">    0</td><td style=\"text-align: right;\">    0</td><td style=\"text-align: right;\">    1</td><td style=\"text-align: right;\">    0</td><td style=\"text-align: right;\">    0</td><td style=\"text-align: right;\">    0</td><td style=\"text-align: right;\">    0</td><td style=\"text-align: right;\">    0</td><td style=\"text-align: right;\">    0</td><td style=\"text-align: right;\">    0</td><td style=\"text-align: right;\">       0</td><td style=\"text-align: right;\">       0</td><td style=\"text-align: right;\">         0</td><td style=\"text-align: right;\">       1</td><td style=\"text-align: right;\">         0</td><td style=\"text-align: right;\">        0</td><td style=\"text-align: right;\">          0</td><td style=\"text-align: right;\">          31</td></tr>\n",
       "<tr><td style=\"text-align: right;\">   7</td><td style=\"text-align: right;\">               2</td><td style=\"text-align: right;\">               2</td><td style=\"text-align: right;\">           20</td><td style=\"text-align: right;\">          353</td><td style=\"text-align: right;\">                  0.0679887</td><td style=\"text-align: right;\">     1</td><td style=\"text-align: right;\">    8</td><td style=\"text-align: right;\">    0</td><td style=\"text-align: right;\">    0</td><td style=\"text-align: right;\">    0</td><td style=\"text-align: right;\">    0</td><td style=\"text-align: right;\">    1</td><td style=\"text-align: right;\">    0</td><td style=\"text-align: right;\">    0</td><td style=\"text-align: right;\">    0</td><td style=\"text-align: right;\">    0</td><td style=\"text-align: right;\">    0</td><td style=\"text-align: right;\">    0</td><td style=\"text-align: right;\">    0</td><td style=\"text-align: right;\">       0</td><td style=\"text-align: right;\">       1</td><td style=\"text-align: right;\">         0</td><td style=\"text-align: right;\">       0</td><td style=\"text-align: right;\">         0</td><td style=\"text-align: right;\">        0</td><td style=\"text-align: right;\">          0</td><td style=\"text-align: right;\">          24</td></tr>\n",
       "<tr><td style=\"text-align: right;\">   8</td><td style=\"text-align: right;\">               7</td><td style=\"text-align: right;\">               6</td><td style=\"text-align: right;\">           20</td><td style=\"text-align: right;\">          750</td><td style=\"text-align: right;\">                  0.0613333</td><td style=\"text-align: right;\">     1</td><td style=\"text-align: right;\">    9</td><td style=\"text-align: right;\">    0</td><td style=\"text-align: right;\">    0</td><td style=\"text-align: right;\">    0</td><td style=\"text-align: right;\">    0</td><td style=\"text-align: right;\">    1</td><td style=\"text-align: right;\">    0</td><td style=\"text-align: right;\">    0</td><td style=\"text-align: right;\">    0</td><td style=\"text-align: right;\">    0</td><td style=\"text-align: right;\">    0</td><td style=\"text-align: right;\">    0</td><td style=\"text-align: right;\">    0</td><td style=\"text-align: right;\">       0</td><td style=\"text-align: right;\">       0</td><td style=\"text-align: right;\">         0</td><td style=\"text-align: right;\">       0</td><td style=\"text-align: right;\">         0</td><td style=\"text-align: right;\">        1</td><td style=\"text-align: right;\">          0</td><td style=\"text-align: right;\">          46</td></tr>\n",
       "<tr><td style=\"text-align: right;\">   9</td><td style=\"text-align: right;\">               8</td><td style=\"text-align: right;\">               8</td><td style=\"text-align: right;\">           20</td><td style=\"text-align: right;\">          580</td><td style=\"text-align: right;\">                  0.0810345</td><td style=\"text-align: right;\">     1</td><td style=\"text-align: right;\">   10</td><td style=\"text-align: right;\">    0</td><td style=\"text-align: right;\">    0</td><td style=\"text-align: right;\">    0</td><td style=\"text-align: right;\">    0</td><td style=\"text-align: right;\">    1</td><td style=\"text-align: right;\">    0</td><td style=\"text-align: right;\">    0</td><td style=\"text-align: right;\">    0</td><td style=\"text-align: right;\">    0</td><td style=\"text-align: right;\">    0</td><td style=\"text-align: right;\">    0</td><td style=\"text-align: right;\">    0</td><td style=\"text-align: right;\">       0</td><td style=\"text-align: right;\">       0</td><td style=\"text-align: right;\">         0</td><td style=\"text-align: right;\">       0</td><td style=\"text-align: right;\">         0</td><td style=\"text-align: right;\">        0</td><td style=\"text-align: right;\">          1</td><td style=\"text-align: right;\">          47</td></tr>\n",
       "</tbody>\n",
       "</table>"
      ]
     },
     "metadata": {},
     "output_type": "display_data"
    },
    {
     "data": {
      "text/plain": []
     },
     "execution_count": 39,
     "metadata": {},
     "output_type": "execute_result"
    }
   ],
   "source": [
    "df = h2o.import_file('h2data.csv')\n",
    "df.head()"
   ]
  },
  {
   "cell_type": "code",
   "execution_count": 40,
   "metadata": {},
   "outputs": [
    {
     "name": "stdout",
     "output_type": "stream",
     "text": [
      "Rows:606\n",
      "Cols:28\n",
      "\n",
      "\n"
     ]
    },
    {
     "data": {
      "text/html": [
       "<table>\n",
       "<thead>\n",
       "<tr><th>       </th><th>C1                </th><th>No_Of_Sessions    </th><th>Unique_Drivers   </th><th>No_of_ports       </th><th>Charge_time       </th><th>Speed_energy_transmittion  </th><th>Year              </th><th>day               </th><th>Apr                </th><th>Aug                </th><th>Dec                </th><th>Feb               </th><th>Jan                </th><th>Jul                </th><th>Jun                </th><th>Mar                </th><th>May                </th><th>Nov                </th><th>Oct                </th><th>Sep                </th><th>Friday            </th><th>Monday             </th><th>Saturday          </th><th>Sunday            </th><th>Thursday           </th><th>Tuesday            </th><th>Wednesday          </th><th>Energy_kwh        </th></tr>\n",
       "</thead>\n",
       "<tbody>\n",
       "<tr><td>type   </td><td>int               </td><td>int               </td><td>int              </td><td>int               </td><td>int               </td><td>real                       </td><td>int               </td><td>int               </td><td>int                </td><td>int                </td><td>int                </td><td>int               </td><td>int                </td><td>int                </td><td>int                </td><td>int                </td><td>int                </td><td>int                </td><td>int                </td><td>int                </td><td>int               </td><td>int                </td><td>int               </td><td>int               </td><td>int                </td><td>int                </td><td>int                </td><td>int               </td></tr>\n",
       "<tr><td>mins   </td><td>0.0               </td><td>1.0               </td><td>1.0              </td><td>16.0              </td><td>24.0              </td><td>0.007301046483329276       </td><td>0.0               </td><td>1.0               </td><td>0.0                </td><td>0.0                </td><td>0.0                </td><td>0.0               </td><td>0.0                </td><td>0.0                </td><td>0.0                </td><td>0.0                </td><td>0.0                </td><td>0.0                </td><td>0.0                </td><td>0.0                </td><td>0.0               </td><td>0.0                </td><td>0.0               </td><td>0.0               </td><td>0.0                </td><td>0.0                </td><td>0.0                </td><td>3.0               </td></tr>\n",
       "<tr><td>mean   </td><td>302.5             </td><td>22.856435643564375</td><td>20.16171617161717</td><td>36.478547854785525</td><td>2215.125412541251 </td><td>0.08072421211247682        </td><td>0.6023102310231023</td><td>15.665016501650163</td><td>0.09900990099009901</td><td>0.09900990099009901</td><td>0.05115511551155116</td><td>0.0924092409240924</td><td>0.10231023102310231</td><td>0.10231023102310231</td><td>0.09900990099009901</td><td>0.10231023102310231</td><td>0.10231023102310231</td><td>0.04950495049504951</td><td>0.05115511551155116</td><td>0.04950495049504951</td><td>0.1419141914191419</td><td>0.14356435643564355</td><td>0.1419141914191419</td><td>0.1419141914191419</td><td>0.14356435643564355</td><td>0.14356435643564355</td><td>0.14356435643564355</td><td>171.16831683168326</td></tr>\n",
       "<tr><td>maxs   </td><td>605.0             </td><td>88.0              </td><td>47.0             </td><td>42.0              </td><td>8126.0            </td><td>0.75                       </td><td>1.0               </td><td>31.0              </td><td>1.0                </td><td>1.0                </td><td>1.0                </td><td>1.0               </td><td>1.0                </td><td>1.0                </td><td>1.0                </td><td>1.0                </td><td>1.0                </td><td>1.0                </td><td>1.0                </td><td>1.0                </td><td>1.0               </td><td>1.0                </td><td>1.0               </td><td>1.0               </td><td>1.0                </td><td>1.0                </td><td>1.0                </td><td>457.0             </td></tr>\n",
       "<tr><td>sigma  </td><td>175.08140963563207</td><td>9.868600334577339 </td><td>8.317079093840128</td><td>5.917507449654297 </td><td>1111.0507010387757</td><td>0.03796504813267516        </td><td>0.4898250078429809</td><td>8.774587494703471 </td><td>0.29892204666844663</td><td>0.29892204666844663</td><td>0.22049602765913429</td><td>0.2898420273874788</td><td>0.3033062050319044 </td><td>0.3033062050319044 </td><td>0.29892204666844663</td><td>0.3033062050319044 </td><td>0.3033062050319044 </td><td>0.21709902331854308</td><td>0.22049602765913429</td><td>0.21709902331854308</td><td>0.3492503886140015</td><td>0.35093711849939657</td><td>0.3492503886140015</td><td>0.3492503886140015</td><td>0.35093711849939657</td><td>0.35093711849939657</td><td>0.35093711849939657</td><td>84.4155290214554  </td></tr>\n",
       "<tr><td>zeros  </td><td>1                 </td><td>0                 </td><td>0                </td><td>0                 </td><td>0                 </td><td>0                          </td><td>241               </td><td>0                 </td><td>546                </td><td>546                </td><td>575                </td><td>550               </td><td>544                </td><td>544                </td><td>546                </td><td>544                </td><td>544                </td><td>576                </td><td>575                </td><td>576                </td><td>520               </td><td>519                </td><td>520               </td><td>520               </td><td>519                </td><td>519                </td><td>519                </td><td>0                 </td></tr>\n",
       "<tr><td>missing</td><td>0                 </td><td>0                 </td><td>0                </td><td>0                 </td><td>0                 </td><td>0                          </td><td>0                 </td><td>0                 </td><td>0                  </td><td>0                  </td><td>0                  </td><td>0                 </td><td>0                  </td><td>0                  </td><td>0                  </td><td>0                  </td><td>0                  </td><td>0                  </td><td>0                  </td><td>0                  </td><td>0                 </td><td>0                  </td><td>0                 </td><td>0                 </td><td>0                  </td><td>0                  </td><td>0                  </td><td>0                 </td></tr>\n",
       "<tr><td>0      </td><td>0.0               </td><td>1.0               </td><td>1.0              </td><td>16.0              </td><td>123.0             </td><td>0.05691056910569105        </td><td>1.0               </td><td>1.0               </td><td>0.0                </td><td>0.0                </td><td>0.0                </td><td>0.0               </td><td>1.0                </td><td>0.0                </td><td>0.0                </td><td>0.0                </td><td>0.0                </td><td>0.0                </td><td>0.0                </td><td>0.0                </td><td>0.0               </td><td>1.0                </td><td>0.0               </td><td>0.0               </td><td>0.0                </td><td>0.0                </td><td>0.0                </td><td>7.0               </td></tr>\n",
       "<tr><td>1      </td><td>1.0               </td><td>2.0               </td><td>1.0              </td><td>16.0              </td><td>24.0              </td><td>0.75                       </td><td>1.0               </td><td>2.0               </td><td>0.0                </td><td>0.0                </td><td>0.0                </td><td>0.0               </td><td>1.0                </td><td>0.0                </td><td>0.0                </td><td>0.0                </td><td>0.0                </td><td>0.0                </td><td>0.0                </td><td>0.0                </td><td>0.0               </td><td>0.0                </td><td>0.0               </td><td>0.0               </td><td>0.0                </td><td>1.0                </td><td>0.0                </td><td>18.0              </td></tr>\n",
       "<tr><td>2      </td><td>2.0               </td><td>3.0               </td><td>3.0              </td><td>18.0              </td><td>376.0             </td><td>0.029255319148936167       </td><td>1.0               </td><td>3.0               </td><td>0.0                </td><td>0.0                </td><td>0.0                </td><td>0.0               </td><td>1.0                </td><td>0.0                </td><td>0.0                </td><td>0.0                </td><td>0.0                </td><td>0.0                </td><td>0.0                </td><td>0.0                </td><td>0.0               </td><td>0.0                </td><td>0.0               </td><td>0.0               </td><td>0.0                </td><td>0.0                </td><td>1.0                </td><td>11.0              </td></tr>\n",
       "<tr><td>3      </td><td>3.0               </td><td>6.0               </td><td>6.0              </td><td>20.0              </td><td>406.0             </td><td>0.12315270935960591        </td><td>1.0               </td><td>4.0               </td><td>0.0                </td><td>0.0                </td><td>0.0                </td><td>0.0               </td><td>1.0                </td><td>0.0                </td><td>0.0                </td><td>0.0                </td><td>0.0                </td><td>0.0                </td><td>0.0                </td><td>0.0                </td><td>0.0               </td><td>0.0                </td><td>0.0               </td><td>0.0               </td><td>1.0                </td><td>0.0                </td><td>0.0                </td><td>50.0              </td></tr>\n",
       "<tr><td>4      </td><td>4.0               </td><td>2.0               </td><td>2.0              </td><td>20.0              </td><td>62.0              </td><td>0.04838709677419355        </td><td>1.0               </td><td>5.0               </td><td>0.0                </td><td>0.0                </td><td>0.0                </td><td>0.0               </td><td>1.0                </td><td>0.0                </td><td>0.0                </td><td>0.0                </td><td>0.0                </td><td>0.0                </td><td>0.0                </td><td>0.0                </td><td>1.0               </td><td>0.0                </td><td>0.0               </td><td>0.0               </td><td>0.0                </td><td>0.0                </td><td>0.0                </td><td>3.0               </td></tr>\n",
       "<tr><td>5      </td><td>5.0               </td><td>6.0               </td><td>6.0              </td><td>20.0              </td><td>528.0             </td><td>0.0625                     </td><td>1.0               </td><td>6.0               </td><td>0.0                </td><td>0.0                </td><td>0.0                </td><td>0.0               </td><td>1.0                </td><td>0.0                </td><td>0.0                </td><td>0.0                </td><td>0.0                </td><td>0.0                </td><td>0.0                </td><td>0.0                </td><td>0.0               </td><td>0.0                </td><td>1.0               </td><td>0.0               </td><td>0.0                </td><td>0.0                </td><td>0.0                </td><td>33.0              </td></tr>\n",
       "<tr><td>6      </td><td>6.0               </td><td>4.0               </td><td>4.0              </td><td>20.0              </td><td>435.0             </td><td>0.07126436781609195        </td><td>1.0               </td><td>7.0               </td><td>0.0                </td><td>0.0                </td><td>0.0                </td><td>0.0               </td><td>1.0                </td><td>0.0                </td><td>0.0                </td><td>0.0                </td><td>0.0                </td><td>0.0                </td><td>0.0                </td><td>0.0                </td><td>0.0               </td><td>0.0                </td><td>0.0               </td><td>1.0               </td><td>0.0                </td><td>0.0                </td><td>0.0                </td><td>31.0              </td></tr>\n",
       "<tr><td>7      </td><td>7.0               </td><td>2.0               </td><td>2.0              </td><td>20.0              </td><td>353.0             </td><td>0.0679886685552408         </td><td>1.0               </td><td>8.0               </td><td>0.0                </td><td>0.0                </td><td>0.0                </td><td>0.0               </td><td>1.0                </td><td>0.0                </td><td>0.0                </td><td>0.0                </td><td>0.0                </td><td>0.0                </td><td>0.0                </td><td>0.0                </td><td>0.0               </td><td>1.0                </td><td>0.0               </td><td>0.0               </td><td>0.0                </td><td>0.0                </td><td>0.0                </td><td>24.0              </td></tr>\n",
       "<tr><td>8      </td><td>8.0               </td><td>7.0               </td><td>6.0              </td><td>20.0              </td><td>750.0             </td><td>0.06133333333333332        </td><td>1.0               </td><td>9.0               </td><td>0.0                </td><td>0.0                </td><td>0.0                </td><td>0.0               </td><td>1.0                </td><td>0.0                </td><td>0.0                </td><td>0.0                </td><td>0.0                </td><td>0.0                </td><td>0.0                </td><td>0.0                </td><td>0.0               </td><td>0.0                </td><td>0.0               </td><td>0.0               </td><td>0.0                </td><td>1.0                </td><td>0.0                </td><td>46.0              </td></tr>\n",
       "<tr><td>9      </td><td>9.0               </td><td>8.0               </td><td>8.0              </td><td>20.0              </td><td>580.0             </td><td>0.08103448275862069        </td><td>1.0               </td><td>10.0              </td><td>0.0                </td><td>0.0                </td><td>0.0                </td><td>0.0               </td><td>1.0                </td><td>0.0                </td><td>0.0                </td><td>0.0                </td><td>0.0                </td><td>0.0                </td><td>0.0                </td><td>0.0                </td><td>0.0               </td><td>0.0                </td><td>0.0               </td><td>0.0               </td><td>0.0                </td><td>0.0                </td><td>1.0                </td><td>47.0              </td></tr>\n",
       "</tbody>\n",
       "</table>"
      ]
     },
     "metadata": {},
     "output_type": "display_data"
    }
   ],
   "source": [
    "#stats description\n",
    "df.describe()"
   ]
  },
  {
   "cell_type": "code",
   "execution_count": 41,
   "metadata": {},
   "outputs": [
    {
     "data": {
      "text/html": [
       "<table>\n",
       "<thead>\n",
       "<tr><th style=\"text-align: right;\">  C1</th><th style=\"text-align: right;\">  No_Of_Sessions</th><th style=\"text-align: right;\">  Unique_Drivers</th><th style=\"text-align: right;\">  No_of_ports</th><th style=\"text-align: right;\">  Charge_time</th><th style=\"text-align: right;\">  Speed_energy_transmittion</th><th style=\"text-align: right;\">  Year</th><th style=\"text-align: right;\">  day</th><th style=\"text-align: right;\">  Apr</th><th style=\"text-align: right;\">  Aug</th><th style=\"text-align: right;\">  Dec</th><th style=\"text-align: right;\">  Feb</th><th style=\"text-align: right;\">  Jan</th><th style=\"text-align: right;\">  Jul</th><th style=\"text-align: right;\">  Jun</th><th style=\"text-align: right;\">  Mar</th><th style=\"text-align: right;\">  May</th><th style=\"text-align: right;\">  Nov</th><th style=\"text-align: right;\">  Oct</th><th style=\"text-align: right;\">  Sep</th><th style=\"text-align: right;\">  Friday</th><th style=\"text-align: right;\">  Monday</th><th style=\"text-align: right;\">  Saturday</th><th style=\"text-align: right;\">  Sunday</th><th style=\"text-align: right;\">  Thursday</th><th style=\"text-align: right;\">  Tuesday</th><th style=\"text-align: right;\">  Wednesday</th><th style=\"text-align: right;\">  Energy_kwh</th></tr>\n",
       "</thead>\n",
       "<tbody>\n",
       "<tr><td style=\"text-align: right;\">   0</td><td style=\"text-align: right;\">               1</td><td style=\"text-align: right;\">               1</td><td style=\"text-align: right;\">           16</td><td style=\"text-align: right;\">          123</td><td style=\"text-align: right;\">                  0.0569106</td><td style=\"text-align: right;\">     1</td><td style=\"text-align: right;\">    1</td><td style=\"text-align: right;\">    0</td><td style=\"text-align: right;\">    0</td><td style=\"text-align: right;\">    0</td><td style=\"text-align: right;\">    0</td><td style=\"text-align: right;\">    1</td><td style=\"text-align: right;\">    0</td><td style=\"text-align: right;\">    0</td><td style=\"text-align: right;\">    0</td><td style=\"text-align: right;\">    0</td><td style=\"text-align: right;\">    0</td><td style=\"text-align: right;\">    0</td><td style=\"text-align: right;\">    0</td><td style=\"text-align: right;\">       0</td><td style=\"text-align: right;\">       1</td><td style=\"text-align: right;\">         0</td><td style=\"text-align: right;\">       0</td><td style=\"text-align: right;\">         0</td><td style=\"text-align: right;\">        0</td><td style=\"text-align: right;\">          0</td><td style=\"text-align: right;\">           7</td></tr>\n",
       "<tr><td style=\"text-align: right;\">   1</td><td style=\"text-align: right;\">               2</td><td style=\"text-align: right;\">               1</td><td style=\"text-align: right;\">           16</td><td style=\"text-align: right;\">           24</td><td style=\"text-align: right;\">                  0.75     </td><td style=\"text-align: right;\">     1</td><td style=\"text-align: right;\">    2</td><td style=\"text-align: right;\">    0</td><td style=\"text-align: right;\">    0</td><td style=\"text-align: right;\">    0</td><td style=\"text-align: right;\">    0</td><td style=\"text-align: right;\">    1</td><td style=\"text-align: right;\">    0</td><td style=\"text-align: right;\">    0</td><td style=\"text-align: right;\">    0</td><td style=\"text-align: right;\">    0</td><td style=\"text-align: right;\">    0</td><td style=\"text-align: right;\">    0</td><td style=\"text-align: right;\">    0</td><td style=\"text-align: right;\">       0</td><td style=\"text-align: right;\">       0</td><td style=\"text-align: right;\">         0</td><td style=\"text-align: right;\">       0</td><td style=\"text-align: right;\">         0</td><td style=\"text-align: right;\">        1</td><td style=\"text-align: right;\">          0</td><td style=\"text-align: right;\">          18</td></tr>\n",
       "<tr><td style=\"text-align: right;\">   2</td><td style=\"text-align: right;\">               3</td><td style=\"text-align: right;\">               3</td><td style=\"text-align: right;\">           18</td><td style=\"text-align: right;\">          376</td><td style=\"text-align: right;\">                  0.0292553</td><td style=\"text-align: right;\">     1</td><td style=\"text-align: right;\">    3</td><td style=\"text-align: right;\">    0</td><td style=\"text-align: right;\">    0</td><td style=\"text-align: right;\">    0</td><td style=\"text-align: right;\">    0</td><td style=\"text-align: right;\">    1</td><td style=\"text-align: right;\">    0</td><td style=\"text-align: right;\">    0</td><td style=\"text-align: right;\">    0</td><td style=\"text-align: right;\">    0</td><td style=\"text-align: right;\">    0</td><td style=\"text-align: right;\">    0</td><td style=\"text-align: right;\">    0</td><td style=\"text-align: right;\">       0</td><td style=\"text-align: right;\">       0</td><td style=\"text-align: right;\">         0</td><td style=\"text-align: right;\">       0</td><td style=\"text-align: right;\">         0</td><td style=\"text-align: right;\">        0</td><td style=\"text-align: right;\">          1</td><td style=\"text-align: right;\">          11</td></tr>\n",
       "<tr><td style=\"text-align: right;\">   3</td><td style=\"text-align: right;\">               6</td><td style=\"text-align: right;\">               6</td><td style=\"text-align: right;\">           20</td><td style=\"text-align: right;\">          406</td><td style=\"text-align: right;\">                  0.123153 </td><td style=\"text-align: right;\">     1</td><td style=\"text-align: right;\">    4</td><td style=\"text-align: right;\">    0</td><td style=\"text-align: right;\">    0</td><td style=\"text-align: right;\">    0</td><td style=\"text-align: right;\">    0</td><td style=\"text-align: right;\">    1</td><td style=\"text-align: right;\">    0</td><td style=\"text-align: right;\">    0</td><td style=\"text-align: right;\">    0</td><td style=\"text-align: right;\">    0</td><td style=\"text-align: right;\">    0</td><td style=\"text-align: right;\">    0</td><td style=\"text-align: right;\">    0</td><td style=\"text-align: right;\">       0</td><td style=\"text-align: right;\">       0</td><td style=\"text-align: right;\">         0</td><td style=\"text-align: right;\">       0</td><td style=\"text-align: right;\">         1</td><td style=\"text-align: right;\">        0</td><td style=\"text-align: right;\">          0</td><td style=\"text-align: right;\">          50</td></tr>\n",
       "<tr><td style=\"text-align: right;\">   4</td><td style=\"text-align: right;\">               2</td><td style=\"text-align: right;\">               2</td><td style=\"text-align: right;\">           20</td><td style=\"text-align: right;\">           62</td><td style=\"text-align: right;\">                  0.0483871</td><td style=\"text-align: right;\">     1</td><td style=\"text-align: right;\">    5</td><td style=\"text-align: right;\">    0</td><td style=\"text-align: right;\">    0</td><td style=\"text-align: right;\">    0</td><td style=\"text-align: right;\">    0</td><td style=\"text-align: right;\">    1</td><td style=\"text-align: right;\">    0</td><td style=\"text-align: right;\">    0</td><td style=\"text-align: right;\">    0</td><td style=\"text-align: right;\">    0</td><td style=\"text-align: right;\">    0</td><td style=\"text-align: right;\">    0</td><td style=\"text-align: right;\">    0</td><td style=\"text-align: right;\">       1</td><td style=\"text-align: right;\">       0</td><td style=\"text-align: right;\">         0</td><td style=\"text-align: right;\">       0</td><td style=\"text-align: right;\">         0</td><td style=\"text-align: right;\">        0</td><td style=\"text-align: right;\">          0</td><td style=\"text-align: right;\">           3</td></tr>\n",
       "</tbody>\n",
       "</table>"
      ]
     },
     "metadata": {},
     "output_type": "display_data"
    },
    {
     "data": {
      "text/plain": []
     },
     "execution_count": 41,
     "metadata": {},
     "output_type": "execute_result"
    }
   ],
   "source": [
    "#sample view\n",
    "df.head(5)"
   ]
  },
  {
   "cell_type": "code",
   "execution_count": 42,
   "metadata": {},
   "outputs": [
    {
     "data": {
      "text/plain": [
       "['C1',\n",
       " 'No_Of_Sessions',\n",
       " 'Unique_Drivers',\n",
       " 'No_of_ports',\n",
       " 'Charge_time',\n",
       " 'Speed_energy_transmittion',\n",
       " 'Year',\n",
       " 'day',\n",
       " 'Apr',\n",
       " 'Aug',\n",
       " 'Dec',\n",
       " 'Feb',\n",
       " 'Jan',\n",
       " 'Jul',\n",
       " 'Jun',\n",
       " 'Mar',\n",
       " 'May',\n",
       " 'Nov',\n",
       " 'Oct',\n",
       " 'Sep',\n",
       " 'Friday',\n",
       " 'Monday',\n",
       " 'Saturday',\n",
       " 'Sunday',\n",
       " 'Thursday',\n",
       " 'Tuesday',\n",
       " 'Wednesday',\n",
       " 'Energy_kwh']"
      ]
     },
     "execution_count": 42,
     "metadata": {},
     "output_type": "execute_result"
    }
   ],
   "source": [
    "#No of columns\n",
    "df.columns"
   ]
  },
  {
   "cell_type": "code",
   "execution_count": 43,
   "metadata": {},
   "outputs": [
    {
     "data": {
      "text/html": [
       "<table>\n",
       "<thead>\n",
       "<tr><th style=\"text-align: right;\">  C1</th><th style=\"text-align: right;\">  NoOfSessions</th><th style=\"text-align: right;\">  Unique_Drivers</th><th style=\"text-align: right;\">  NoofPorts</th><th style=\"text-align: right;\">  Chargetime_minutes</th><th style=\"text-align: right;\">  Speed_energy_transmittion</th><th style=\"text-align: right;\">  Year</th><th style=\"text-align: right;\">  day</th><th style=\"text-align: right;\">  Apr</th><th style=\"text-align: right;\">  Aug</th><th style=\"text-align: right;\">  Dec</th><th style=\"text-align: right;\">  Feb</th><th style=\"text-align: right;\">  Jan</th><th style=\"text-align: right;\">  Jul</th><th style=\"text-align: right;\">  Jun</th><th style=\"text-align: right;\">  Mar</th><th style=\"text-align: right;\">  May</th><th style=\"text-align: right;\">  Nov</th><th style=\"text-align: right;\">  Oct</th><th style=\"text-align: right;\">  Sep</th><th style=\"text-align: right;\">  Friday</th><th style=\"text-align: right;\">  Monday</th><th style=\"text-align: right;\">  Saturday</th><th style=\"text-align: right;\">  Sunday</th><th style=\"text-align: right;\">  Thursday</th><th style=\"text-align: right;\">  Tuesday</th><th style=\"text-align: right;\">  Wednesday</th><th style=\"text-align: right;\">  Energy_kwh</th></tr>\n",
       "</thead>\n",
       "<tbody>\n",
       "<tr><td style=\"text-align: right;\">   0</td><td style=\"text-align: right;\">             1</td><td style=\"text-align: right;\">               1</td><td style=\"text-align: right;\">         16</td><td style=\"text-align: right;\">                 123</td><td style=\"text-align: right;\">                  0.0569106</td><td style=\"text-align: right;\">     1</td><td style=\"text-align: right;\">    1</td><td style=\"text-align: right;\">    0</td><td style=\"text-align: right;\">    0</td><td style=\"text-align: right;\">    0</td><td style=\"text-align: right;\">    0</td><td style=\"text-align: right;\">    1</td><td style=\"text-align: right;\">    0</td><td style=\"text-align: right;\">    0</td><td style=\"text-align: right;\">    0</td><td style=\"text-align: right;\">    0</td><td style=\"text-align: right;\">    0</td><td style=\"text-align: right;\">    0</td><td style=\"text-align: right;\">    0</td><td style=\"text-align: right;\">       0</td><td style=\"text-align: right;\">       1</td><td style=\"text-align: right;\">         0</td><td style=\"text-align: right;\">       0</td><td style=\"text-align: right;\">         0</td><td style=\"text-align: right;\">        0</td><td style=\"text-align: right;\">          0</td><td style=\"text-align: right;\">           7</td></tr>\n",
       "<tr><td style=\"text-align: right;\">   1</td><td style=\"text-align: right;\">             2</td><td style=\"text-align: right;\">               1</td><td style=\"text-align: right;\">         16</td><td style=\"text-align: right;\">                  24</td><td style=\"text-align: right;\">                  0.75     </td><td style=\"text-align: right;\">     1</td><td style=\"text-align: right;\">    2</td><td style=\"text-align: right;\">    0</td><td style=\"text-align: right;\">    0</td><td style=\"text-align: right;\">    0</td><td style=\"text-align: right;\">    0</td><td style=\"text-align: right;\">    1</td><td style=\"text-align: right;\">    0</td><td style=\"text-align: right;\">    0</td><td style=\"text-align: right;\">    0</td><td style=\"text-align: right;\">    0</td><td style=\"text-align: right;\">    0</td><td style=\"text-align: right;\">    0</td><td style=\"text-align: right;\">    0</td><td style=\"text-align: right;\">       0</td><td style=\"text-align: right;\">       0</td><td style=\"text-align: right;\">         0</td><td style=\"text-align: right;\">       0</td><td style=\"text-align: right;\">         0</td><td style=\"text-align: right;\">        1</td><td style=\"text-align: right;\">          0</td><td style=\"text-align: right;\">          18</td></tr>\n",
       "<tr><td style=\"text-align: right;\">   2</td><td style=\"text-align: right;\">             3</td><td style=\"text-align: right;\">               3</td><td style=\"text-align: right;\">         18</td><td style=\"text-align: right;\">                 376</td><td style=\"text-align: right;\">                  0.0292553</td><td style=\"text-align: right;\">     1</td><td style=\"text-align: right;\">    3</td><td style=\"text-align: right;\">    0</td><td style=\"text-align: right;\">    0</td><td style=\"text-align: right;\">    0</td><td style=\"text-align: right;\">    0</td><td style=\"text-align: right;\">    1</td><td style=\"text-align: right;\">    0</td><td style=\"text-align: right;\">    0</td><td style=\"text-align: right;\">    0</td><td style=\"text-align: right;\">    0</td><td style=\"text-align: right;\">    0</td><td style=\"text-align: right;\">    0</td><td style=\"text-align: right;\">    0</td><td style=\"text-align: right;\">       0</td><td style=\"text-align: right;\">       0</td><td style=\"text-align: right;\">         0</td><td style=\"text-align: right;\">       0</td><td style=\"text-align: right;\">         0</td><td style=\"text-align: right;\">        0</td><td style=\"text-align: right;\">          1</td><td style=\"text-align: right;\">          11</td></tr>\n",
       "<tr><td style=\"text-align: right;\">   3</td><td style=\"text-align: right;\">             6</td><td style=\"text-align: right;\">               6</td><td style=\"text-align: right;\">         20</td><td style=\"text-align: right;\">                 406</td><td style=\"text-align: right;\">                  0.123153 </td><td style=\"text-align: right;\">     1</td><td style=\"text-align: right;\">    4</td><td style=\"text-align: right;\">    0</td><td style=\"text-align: right;\">    0</td><td style=\"text-align: right;\">    0</td><td style=\"text-align: right;\">    0</td><td style=\"text-align: right;\">    1</td><td style=\"text-align: right;\">    0</td><td style=\"text-align: right;\">    0</td><td style=\"text-align: right;\">    0</td><td style=\"text-align: right;\">    0</td><td style=\"text-align: right;\">    0</td><td style=\"text-align: right;\">    0</td><td style=\"text-align: right;\">    0</td><td style=\"text-align: right;\">       0</td><td style=\"text-align: right;\">       0</td><td style=\"text-align: right;\">         0</td><td style=\"text-align: right;\">       0</td><td style=\"text-align: right;\">         1</td><td style=\"text-align: right;\">        0</td><td style=\"text-align: right;\">          0</td><td style=\"text-align: right;\">          50</td></tr>\n",
       "<tr><td style=\"text-align: right;\">   4</td><td style=\"text-align: right;\">             2</td><td style=\"text-align: right;\">               2</td><td style=\"text-align: right;\">         20</td><td style=\"text-align: right;\">                  62</td><td style=\"text-align: right;\">                  0.0483871</td><td style=\"text-align: right;\">     1</td><td style=\"text-align: right;\">    5</td><td style=\"text-align: right;\">    0</td><td style=\"text-align: right;\">    0</td><td style=\"text-align: right;\">    0</td><td style=\"text-align: right;\">    0</td><td style=\"text-align: right;\">    1</td><td style=\"text-align: right;\">    0</td><td style=\"text-align: right;\">    0</td><td style=\"text-align: right;\">    0</td><td style=\"text-align: right;\">    0</td><td style=\"text-align: right;\">    0</td><td style=\"text-align: right;\">    0</td><td style=\"text-align: right;\">    0</td><td style=\"text-align: right;\">       1</td><td style=\"text-align: right;\">       0</td><td style=\"text-align: right;\">         0</td><td style=\"text-align: right;\">       0</td><td style=\"text-align: right;\">         0</td><td style=\"text-align: right;\">        0</td><td style=\"text-align: right;\">          0</td><td style=\"text-align: right;\">           3</td></tr>\n",
       "<tr><td style=\"text-align: right;\">   5</td><td style=\"text-align: right;\">             6</td><td style=\"text-align: right;\">               6</td><td style=\"text-align: right;\">         20</td><td style=\"text-align: right;\">                 528</td><td style=\"text-align: right;\">                  0.0625   </td><td style=\"text-align: right;\">     1</td><td style=\"text-align: right;\">    6</td><td style=\"text-align: right;\">    0</td><td style=\"text-align: right;\">    0</td><td style=\"text-align: right;\">    0</td><td style=\"text-align: right;\">    0</td><td style=\"text-align: right;\">    1</td><td style=\"text-align: right;\">    0</td><td style=\"text-align: right;\">    0</td><td style=\"text-align: right;\">    0</td><td style=\"text-align: right;\">    0</td><td style=\"text-align: right;\">    0</td><td style=\"text-align: right;\">    0</td><td style=\"text-align: right;\">    0</td><td style=\"text-align: right;\">       0</td><td style=\"text-align: right;\">       0</td><td style=\"text-align: right;\">         1</td><td style=\"text-align: right;\">       0</td><td style=\"text-align: right;\">         0</td><td style=\"text-align: right;\">        0</td><td style=\"text-align: right;\">          0</td><td style=\"text-align: right;\">          33</td></tr>\n",
       "<tr><td style=\"text-align: right;\">   6</td><td style=\"text-align: right;\">             4</td><td style=\"text-align: right;\">               4</td><td style=\"text-align: right;\">         20</td><td style=\"text-align: right;\">                 435</td><td style=\"text-align: right;\">                  0.0712644</td><td style=\"text-align: right;\">     1</td><td style=\"text-align: right;\">    7</td><td style=\"text-align: right;\">    0</td><td style=\"text-align: right;\">    0</td><td style=\"text-align: right;\">    0</td><td style=\"text-align: right;\">    0</td><td style=\"text-align: right;\">    1</td><td style=\"text-align: right;\">    0</td><td style=\"text-align: right;\">    0</td><td style=\"text-align: right;\">    0</td><td style=\"text-align: right;\">    0</td><td style=\"text-align: right;\">    0</td><td style=\"text-align: right;\">    0</td><td style=\"text-align: right;\">    0</td><td style=\"text-align: right;\">       0</td><td style=\"text-align: right;\">       0</td><td style=\"text-align: right;\">         0</td><td style=\"text-align: right;\">       1</td><td style=\"text-align: right;\">         0</td><td style=\"text-align: right;\">        0</td><td style=\"text-align: right;\">          0</td><td style=\"text-align: right;\">          31</td></tr>\n",
       "<tr><td style=\"text-align: right;\">   7</td><td style=\"text-align: right;\">             2</td><td style=\"text-align: right;\">               2</td><td style=\"text-align: right;\">         20</td><td style=\"text-align: right;\">                 353</td><td style=\"text-align: right;\">                  0.0679887</td><td style=\"text-align: right;\">     1</td><td style=\"text-align: right;\">    8</td><td style=\"text-align: right;\">    0</td><td style=\"text-align: right;\">    0</td><td style=\"text-align: right;\">    0</td><td style=\"text-align: right;\">    0</td><td style=\"text-align: right;\">    1</td><td style=\"text-align: right;\">    0</td><td style=\"text-align: right;\">    0</td><td style=\"text-align: right;\">    0</td><td style=\"text-align: right;\">    0</td><td style=\"text-align: right;\">    0</td><td style=\"text-align: right;\">    0</td><td style=\"text-align: right;\">    0</td><td style=\"text-align: right;\">       0</td><td style=\"text-align: right;\">       1</td><td style=\"text-align: right;\">         0</td><td style=\"text-align: right;\">       0</td><td style=\"text-align: right;\">         0</td><td style=\"text-align: right;\">        0</td><td style=\"text-align: right;\">          0</td><td style=\"text-align: right;\">          24</td></tr>\n",
       "<tr><td style=\"text-align: right;\">   8</td><td style=\"text-align: right;\">             7</td><td style=\"text-align: right;\">               6</td><td style=\"text-align: right;\">         20</td><td style=\"text-align: right;\">                 750</td><td style=\"text-align: right;\">                  0.0613333</td><td style=\"text-align: right;\">     1</td><td style=\"text-align: right;\">    9</td><td style=\"text-align: right;\">    0</td><td style=\"text-align: right;\">    0</td><td style=\"text-align: right;\">    0</td><td style=\"text-align: right;\">    0</td><td style=\"text-align: right;\">    1</td><td style=\"text-align: right;\">    0</td><td style=\"text-align: right;\">    0</td><td style=\"text-align: right;\">    0</td><td style=\"text-align: right;\">    0</td><td style=\"text-align: right;\">    0</td><td style=\"text-align: right;\">    0</td><td style=\"text-align: right;\">    0</td><td style=\"text-align: right;\">       0</td><td style=\"text-align: right;\">       0</td><td style=\"text-align: right;\">         0</td><td style=\"text-align: right;\">       0</td><td style=\"text-align: right;\">         0</td><td style=\"text-align: right;\">        1</td><td style=\"text-align: right;\">          0</td><td style=\"text-align: right;\">          46</td></tr>\n",
       "<tr><td style=\"text-align: right;\">   9</td><td style=\"text-align: right;\">             8</td><td style=\"text-align: right;\">               8</td><td style=\"text-align: right;\">         20</td><td style=\"text-align: right;\">                 580</td><td style=\"text-align: right;\">                  0.0810345</td><td style=\"text-align: right;\">     1</td><td style=\"text-align: right;\">   10</td><td style=\"text-align: right;\">    0</td><td style=\"text-align: right;\">    0</td><td style=\"text-align: right;\">    0</td><td style=\"text-align: right;\">    0</td><td style=\"text-align: right;\">    1</td><td style=\"text-align: right;\">    0</td><td style=\"text-align: right;\">    0</td><td style=\"text-align: right;\">    0</td><td style=\"text-align: right;\">    0</td><td style=\"text-align: right;\">    0</td><td style=\"text-align: right;\">    0</td><td style=\"text-align: right;\">    0</td><td style=\"text-align: right;\">       0</td><td style=\"text-align: right;\">       0</td><td style=\"text-align: right;\">         0</td><td style=\"text-align: right;\">       0</td><td style=\"text-align: right;\">         0</td><td style=\"text-align: right;\">        0</td><td style=\"text-align: right;\">          1</td><td style=\"text-align: right;\">          47</td></tr>\n",
       "</tbody>\n",
       "</table>"
      ]
     },
     "metadata": {},
     "output_type": "display_data"
    },
    {
     "data": {
      "text/plain": []
     },
     "execution_count": 43,
     "metadata": {},
     "output_type": "execute_result"
    }
   ],
   "source": [
    "#column renaming\n",
    "df.set_names(['C1','NoOfSessions','Unique_Drivers','NoofPorts','Chargetime_minutes','Speed_energy_transmittion','Year','day','Apr','Aug','Dec','Feb','Jan','Jul','Jun','Mar','May','Nov','Oct','Sep','Friday','Monday','Saturday','Sunday','Thursday','Tuesday','Wednesday','Energy_kwh'])"
   ]
  },
  {
   "cell_type": "code",
   "execution_count": 44,
   "metadata": {},
   "outputs": [],
   "source": [
    "#defining target variable\n",
    "x = ['C1','NoOfSessions','Unique_Drivers','NoofPorts','Chargetime_minutes','Speed_energy_transmittion','Year','day','Apr','Aug','Dec','Feb','Jan','Jul','Jun','Mar','May','Nov','Oct','Sep','Friday','Monday','Saturday','Sunday','Thursday','Tuesday','Wednesday']\n",
    "y = \"Energy_kwh\""
   ]
  },
  {
   "cell_type": "code",
   "execution_count": 45,
   "metadata": {},
   "outputs": [
    {
     "name": "stdout",
     "output_type": "stream",
     "text": [
      "AutoML progress: |████████████████████████████████████████████████████████| 100%\n"
     ]
    }
   ],
   "source": [
    "# model fitting\n",
    "aml =  H2OAutoML(max_models = 30, max_runtime_secs = 300, seed = 33)\n",
    "aml.train(x = x,y = y, training_frame = df)"
   ]
  },
  {
   "cell_type": "code",
   "execution_count": 46,
   "metadata": {},
   "outputs": [
    {
     "data": {
      "text/html": [
       "<table>\n",
       "<thead>\n",
       "<tr><th>model_id                                           </th><th style=\"text-align: right;\">  mean_residual_deviance</th><th style=\"text-align: right;\">   rmse</th><th style=\"text-align: right;\">    mse</th><th style=\"text-align: right;\">    mae</th><th style=\"text-align: right;\">     rmsle</th></tr>\n",
       "</thead>\n",
       "<tbody>\n",
       "<tr><td>XGBoost_1_AutoML_20191013_175726                   </td><td style=\"text-align: right;\">                 195.744</td><td style=\"text-align: right;\">13.9908</td><td style=\"text-align: right;\">195.744</td><td style=\"text-align: right;\">7.8982 </td><td style=\"text-align: right;\">nan       </td></tr>\n",
       "<tr><td>GBM_1_AutoML_20191013_175726                       </td><td style=\"text-align: right;\">                 197.105</td><td style=\"text-align: right;\">14.0394</td><td style=\"text-align: right;\">197.105</td><td style=\"text-align: right;\">7.57297</td><td style=\"text-align: right;\">  0.132275</td></tr>\n",
       "<tr><td>XGBoost_3_AutoML_20191013_175726                   </td><td style=\"text-align: right;\">                 204.02 </td><td style=\"text-align: right;\">14.2836</td><td style=\"text-align: right;\">204.02 </td><td style=\"text-align: right;\">8.84619</td><td style=\"text-align: right;\">  0.164718</td></tr>\n",
       "<tr><td>XGBoost_grid_1_AutoML_20191013_175726_model_6      </td><td style=\"text-align: right;\">                 213.487</td><td style=\"text-align: right;\">14.6112</td><td style=\"text-align: right;\">213.487</td><td style=\"text-align: right;\">8.80731</td><td style=\"text-align: right;\">  0.198366</td></tr>\n",
       "<tr><td>XGBoost_2_AutoML_20191013_175726                   </td><td style=\"text-align: right;\">                 219.012</td><td style=\"text-align: right;\">14.799 </td><td style=\"text-align: right;\">219.012</td><td style=\"text-align: right;\">7.8292 </td><td style=\"text-align: right;\">  0.135612</td></tr>\n",
       "<tr><td>GBM_4_AutoML_20191013_175726                       </td><td style=\"text-align: right;\">                 223.469</td><td style=\"text-align: right;\">14.9489</td><td style=\"text-align: right;\">223.469</td><td style=\"text-align: right;\">8.1287 </td><td style=\"text-align: right;\">nan       </td></tr>\n",
       "<tr><td>StackedEnsemble_AllModels_AutoML_20191013_175726   </td><td style=\"text-align: right;\">                 223.99 </td><td style=\"text-align: right;\">14.9663</td><td style=\"text-align: right;\">223.99 </td><td style=\"text-align: right;\">8.25927</td><td style=\"text-align: right;\">nan       </td></tr>\n",
       "<tr><td>GBM_3_AutoML_20191013_175726                       </td><td style=\"text-align: right;\">                 228.146</td><td style=\"text-align: right;\">15.1045</td><td style=\"text-align: right;\">228.146</td><td style=\"text-align: right;\">7.93043</td><td style=\"text-align: right;\">nan       </td></tr>\n",
       "<tr><td>GBM_2_AutoML_20191013_175726                       </td><td style=\"text-align: right;\">                 229.398</td><td style=\"text-align: right;\">15.1459</td><td style=\"text-align: right;\">229.398</td><td style=\"text-align: right;\">7.72754</td><td style=\"text-align: right;\">nan       </td></tr>\n",
       "<tr><td>StackedEnsemble_BestOfFamily_AutoML_20191013_175726</td><td style=\"text-align: right;\">                 236.724</td><td style=\"text-align: right;\">15.3858</td><td style=\"text-align: right;\">236.724</td><td style=\"text-align: right;\">9.85311</td><td style=\"text-align: right;\">  0.145647</td></tr>\n",
       "</tbody>\n",
       "</table>"
      ]
     },
     "metadata": {},
     "output_type": "display_data"
    },
    {
     "data": {
      "text/plain": []
     },
     "execution_count": 46,
     "metadata": {},
     "output_type": "execute_result"
    }
   ],
   "source": [
    "#this will shows you top10 best models\n",
    "lb = aml.leaderboard\n",
    "lb"
   ]
  },
  {
   "cell_type": "code",
   "execution_count": 47,
   "metadata": {},
   "outputs": [
    {
     "name": "stdout",
     "output_type": "stream",
     "text": [
      "Model Details\n",
      "=============\n",
      "H2OXGBoostEstimator :  XGBoost\n",
      "Model Key:  XGBoost_1_AutoML_20191013_175726\n",
      "\n",
      "\n",
      "Model Summary: \n"
     ]
    },
    {
     "data": {
      "text/html": [
       "<div>\n",
       "<style scoped>\n",
       "    .dataframe tbody tr th:only-of-type {\n",
       "        vertical-align: middle;\n",
       "    }\n",
       "\n",
       "    .dataframe tbody tr th {\n",
       "        vertical-align: top;\n",
       "    }\n",
       "\n",
       "    .dataframe thead th {\n",
       "        text-align: right;\n",
       "    }\n",
       "</style>\n",
       "<table border=\"1\" class=\"dataframe\">\n",
       "  <thead>\n",
       "    <tr style=\"text-align: right;\">\n",
       "      <th></th>\n",
       "      <th></th>\n",
       "      <th>number_of_trees</th>\n",
       "    </tr>\n",
       "  </thead>\n",
       "  <tbody>\n",
       "    <tr>\n",
       "      <td>0</td>\n",
       "      <td></td>\n",
       "      <td>185.0</td>\n",
       "    </tr>\n",
       "  </tbody>\n",
       "</table>\n",
       "</div>"
      ],
      "text/plain": [
       "     number_of_trees\n",
       "0              185.0"
      ]
     },
     "metadata": {},
     "output_type": "display_data"
    },
    {
     "name": "stdout",
     "output_type": "stream",
     "text": [
      "\n",
      "\n",
      "ModelMetricsRegression: xgboost\n",
      "** Reported on train data. **\n",
      "\n",
      "MSE: 21.63917760243686\n",
      "RMSE: 4.651792944923157\n",
      "MAE: 1.9975127839412625\n",
      "RMSLE: NaN\n",
      "Mean Residual Deviance: 21.63917760243686\n",
      "\n",
      "ModelMetricsRegression: xgboost\n",
      "** Reported on cross-validation data. **\n",
      "\n",
      "MSE: 195.74385367730008\n",
      "RMSE: 13.990848926255335\n",
      "MAE: 7.898195235445948\n",
      "RMSLE: NaN\n",
      "Mean Residual Deviance: 195.74385367730008\n",
      "\n",
      "Cross-Validation Metrics Summary: \n"
     ]
    },
    {
     "data": {
      "text/html": [
       "<div>\n",
       "<style scoped>\n",
       "    .dataframe tbody tr th:only-of-type {\n",
       "        vertical-align: middle;\n",
       "    }\n",
       "\n",
       "    .dataframe tbody tr th {\n",
       "        vertical-align: top;\n",
       "    }\n",
       "\n",
       "    .dataframe thead th {\n",
       "        text-align: right;\n",
       "    }\n",
       "</style>\n",
       "<table border=\"1\" class=\"dataframe\">\n",
       "  <thead>\n",
       "    <tr style=\"text-align: right;\">\n",
       "      <th></th>\n",
       "      <th></th>\n",
       "      <th>mean</th>\n",
       "      <th>sd</th>\n",
       "      <th>cv_1_valid</th>\n",
       "      <th>cv_2_valid</th>\n",
       "      <th>cv_3_valid</th>\n",
       "      <th>cv_4_valid</th>\n",
       "      <th>cv_5_valid</th>\n",
       "    </tr>\n",
       "  </thead>\n",
       "  <tbody>\n",
       "    <tr>\n",
       "      <td>0</td>\n",
       "      <td>mae</td>\n",
       "      <td>7.8990893</td>\n",
       "      <td>1.569532</td>\n",
       "      <td>7.357226</td>\n",
       "      <td>6.430857</td>\n",
       "      <td>9.621071</td>\n",
       "      <td>9.525994</td>\n",
       "      <td>6.5602984</td>\n",
       "    </tr>\n",
       "    <tr>\n",
       "      <td>1</td>\n",
       "      <td>mean_residual_deviance</td>\n",
       "      <td>195.81421</td>\n",
       "      <td>113.02208</td>\n",
       "      <td>153.17993</td>\n",
       "      <td>125.557365</td>\n",
       "      <td>277.25943</td>\n",
       "      <td>347.9456</td>\n",
       "      <td>75.12874</td>\n",
       "    </tr>\n",
       "    <tr>\n",
       "      <td>2</td>\n",
       "      <td>mse</td>\n",
       "      <td>195.81421</td>\n",
       "      <td>113.02208</td>\n",
       "      <td>153.17993</td>\n",
       "      <td>125.557365</td>\n",
       "      <td>277.25943</td>\n",
       "      <td>347.9456</td>\n",
       "      <td>75.12874</td>\n",
       "    </tr>\n",
       "    <tr>\n",
       "      <td>3</td>\n",
       "      <td>r2</td>\n",
       "      <td>0.9725411</td>\n",
       "      <td>0.015266124</td>\n",
       "      <td>0.9782946</td>\n",
       "      <td>0.9793331</td>\n",
       "      <td>0.96433294</td>\n",
       "      <td>0.95067203</td>\n",
       "      <td>0.9900726</td>\n",
       "    </tr>\n",
       "    <tr>\n",
       "      <td>4</td>\n",
       "      <td>residual_deviance</td>\n",
       "      <td>195.81421</td>\n",
       "      <td>113.02208</td>\n",
       "      <td>153.17993</td>\n",
       "      <td>125.557365</td>\n",
       "      <td>277.25943</td>\n",
       "      <td>347.9456</td>\n",
       "      <td>75.12874</td>\n",
       "    </tr>\n",
       "    <tr>\n",
       "      <td>5</td>\n",
       "      <td>rmse</td>\n",
       "      <td>13.510783</td>\n",
       "      <td>4.0732255</td>\n",
       "      <td>12.376588</td>\n",
       "      <td>11.205238</td>\n",
       "      <td>16.65111</td>\n",
       "      <td>18.6533</td>\n",
       "      <td>8.667684</td>\n",
       "    </tr>\n",
       "    <tr>\n",
       "      <td>6</td>\n",
       "      <td>rmsle</td>\n",
       "      <td>0.24106157</td>\n",
       "      <td>0.23993754</td>\n",
       "      <td>0.089588456</td>\n",
       "      <td>0.10137618</td>\n",
       "      <td>NaN</td>\n",
       "      <td>0.17703722</td>\n",
       "      <td>0.5962444</td>\n",
       "    </tr>\n",
       "  </tbody>\n",
       "</table>\n",
       "</div>"
      ],
      "text/plain": [
       "                                 mean           sd   cv_1_valid  cv_2_valid  \\\n",
       "0                     mae   7.8990893     1.569532     7.357226    6.430857   \n",
       "1  mean_residual_deviance   195.81421    113.02208    153.17993  125.557365   \n",
       "2                     mse   195.81421    113.02208    153.17993  125.557365   \n",
       "3                      r2   0.9725411  0.015266124    0.9782946   0.9793331   \n",
       "4       residual_deviance   195.81421    113.02208    153.17993  125.557365   \n",
       "5                    rmse   13.510783    4.0732255    12.376588   11.205238   \n",
       "6                   rmsle  0.24106157   0.23993754  0.089588456  0.10137618   \n",
       "\n",
       "   cv_3_valid  cv_4_valid cv_5_valid  \n",
       "0    9.621071    9.525994  6.5602984  \n",
       "1   277.25943    347.9456   75.12874  \n",
       "2   277.25943    347.9456   75.12874  \n",
       "3  0.96433294  0.95067203  0.9900726  \n",
       "4   277.25943    347.9456   75.12874  \n",
       "5    16.65111     18.6533   8.667684  \n",
       "6         NaN  0.17703722  0.5962444  "
      ]
     },
     "metadata": {},
     "output_type": "display_data"
    },
    {
     "name": "stdout",
     "output_type": "stream",
     "text": [
      "\n",
      "Scoring History: \n"
     ]
    },
    {
     "data": {
      "text/html": [
       "<div>\n",
       "<style scoped>\n",
       "    .dataframe tbody tr th:only-of-type {\n",
       "        vertical-align: middle;\n",
       "    }\n",
       "\n",
       "    .dataframe tbody tr th {\n",
       "        vertical-align: top;\n",
       "    }\n",
       "\n",
       "    .dataframe thead th {\n",
       "        text-align: right;\n",
       "    }\n",
       "</style>\n",
       "<table border=\"1\" class=\"dataframe\">\n",
       "  <thead>\n",
       "    <tr style=\"text-align: right;\">\n",
       "      <th></th>\n",
       "      <th></th>\n",
       "      <th>timestamp</th>\n",
       "      <th>duration</th>\n",
       "      <th>number_of_trees</th>\n",
       "      <th>training_rmse</th>\n",
       "      <th>training_mae</th>\n",
       "      <th>training_deviance</th>\n",
       "    </tr>\n",
       "  </thead>\n",
       "  <tbody>\n",
       "    <tr>\n",
       "      <td>0</td>\n",
       "      <td></td>\n",
       "      <td>2019-10-13 17:57:34</td>\n",
       "      <td>7.671 sec</td>\n",
       "      <td>0.0</td>\n",
       "      <td>190.373047</td>\n",
       "      <td>170.668317</td>\n",
       "      <td>36241.896865</td>\n",
       "    </tr>\n",
       "    <tr>\n",
       "      <td>1</td>\n",
       "      <td></td>\n",
       "      <td>2019-10-13 17:57:34</td>\n",
       "      <td>7.723 sec</td>\n",
       "      <td>5.0</td>\n",
       "      <td>149.532418</td>\n",
       "      <td>132.885208</td>\n",
       "      <td>22359.944020</td>\n",
       "    </tr>\n",
       "    <tr>\n",
       "      <td>2</td>\n",
       "      <td></td>\n",
       "      <td>2019-10-13 17:57:34</td>\n",
       "      <td>7.752 sec</td>\n",
       "      <td>10.0</td>\n",
       "      <td>117.732987</td>\n",
       "      <td>103.525226</td>\n",
       "      <td>13861.056202</td>\n",
       "    </tr>\n",
       "    <tr>\n",
       "      <td>3</td>\n",
       "      <td></td>\n",
       "      <td>2019-10-13 17:57:34</td>\n",
       "      <td>7.765 sec</td>\n",
       "      <td>15.0</td>\n",
       "      <td>93.336780</td>\n",
       "      <td>80.942658</td>\n",
       "      <td>8711.754547</td>\n",
       "    </tr>\n",
       "    <tr>\n",
       "      <td>4</td>\n",
       "      <td></td>\n",
       "      <td>2019-10-13 17:57:34</td>\n",
       "      <td>7.778 sec</td>\n",
       "      <td>20.0</td>\n",
       "      <td>73.986099</td>\n",
       "      <td>63.335933</td>\n",
       "      <td>5473.942868</td>\n",
       "    </tr>\n",
       "    <tr>\n",
       "      <td>5</td>\n",
       "      <td></td>\n",
       "      <td>2019-10-13 17:57:34</td>\n",
       "      <td>7.791 sec</td>\n",
       "      <td>25.0</td>\n",
       "      <td>59.218418</td>\n",
       "      <td>49.600698</td>\n",
       "      <td>3506.821003</td>\n",
       "    </tr>\n",
       "    <tr>\n",
       "      <td>6</td>\n",
       "      <td></td>\n",
       "      <td>2019-10-13 17:57:34</td>\n",
       "      <td>7.805 sec</td>\n",
       "      <td>30.0</td>\n",
       "      <td>47.920687</td>\n",
       "      <td>39.070404</td>\n",
       "      <td>2296.392236</td>\n",
       "    </tr>\n",
       "    <tr>\n",
       "      <td>7</td>\n",
       "      <td></td>\n",
       "      <td>2019-10-13 17:57:34</td>\n",
       "      <td>7.822 sec</td>\n",
       "      <td>35.0</td>\n",
       "      <td>38.965615</td>\n",
       "      <td>30.828134</td>\n",
       "      <td>1518.319137</td>\n",
       "    </tr>\n",
       "    <tr>\n",
       "      <td>8</td>\n",
       "      <td></td>\n",
       "      <td>2019-10-13 17:57:34</td>\n",
       "      <td>7.839 sec</td>\n",
       "      <td>40.0</td>\n",
       "      <td>31.710381</td>\n",
       "      <td>24.467866</td>\n",
       "      <td>1005.548255</td>\n",
       "    </tr>\n",
       "    <tr>\n",
       "      <td>9</td>\n",
       "      <td></td>\n",
       "      <td>2019-10-13 17:57:34</td>\n",
       "      <td>7.865 sec</td>\n",
       "      <td>45.0</td>\n",
       "      <td>26.092003</td>\n",
       "      <td>19.469845</td>\n",
       "      <td>680.792638</td>\n",
       "    </tr>\n",
       "    <tr>\n",
       "      <td>10</td>\n",
       "      <td></td>\n",
       "      <td>2019-10-13 17:57:34</td>\n",
       "      <td>7.886 sec</td>\n",
       "      <td>50.0</td>\n",
       "      <td>21.714623</td>\n",
       "      <td>15.667819</td>\n",
       "      <td>471.524831</td>\n",
       "    </tr>\n",
       "    <tr>\n",
       "      <td>11</td>\n",
       "      <td></td>\n",
       "      <td>2019-10-13 17:57:34</td>\n",
       "      <td>7.915 sec</td>\n",
       "      <td>55.0</td>\n",
       "      <td>18.262754</td>\n",
       "      <td>12.661199</td>\n",
       "      <td>333.528188</td>\n",
       "    </tr>\n",
       "    <tr>\n",
       "      <td>12</td>\n",
       "      <td></td>\n",
       "      <td>2019-10-13 17:57:34</td>\n",
       "      <td>7.935 sec</td>\n",
       "      <td>60.0</td>\n",
       "      <td>15.575721</td>\n",
       "      <td>10.352535</td>\n",
       "      <td>242.603100</td>\n",
       "    </tr>\n",
       "    <tr>\n",
       "      <td>13</td>\n",
       "      <td></td>\n",
       "      <td>2019-10-13 17:57:34</td>\n",
       "      <td>7.954 sec</td>\n",
       "      <td>65.0</td>\n",
       "      <td>13.586356</td>\n",
       "      <td>8.613138</td>\n",
       "      <td>184.589077</td>\n",
       "    </tr>\n",
       "    <tr>\n",
       "      <td>14</td>\n",
       "      <td></td>\n",
       "      <td>2019-10-13 17:57:34</td>\n",
       "      <td>7.975 sec</td>\n",
       "      <td>70.0</td>\n",
       "      <td>11.930308</td>\n",
       "      <td>7.249029</td>\n",
       "      <td>142.332250</td>\n",
       "    </tr>\n",
       "    <tr>\n",
       "      <td>15</td>\n",
       "      <td></td>\n",
       "      <td>2019-10-13 17:57:34</td>\n",
       "      <td>8.000 sec</td>\n",
       "      <td>75.0</td>\n",
       "      <td>10.694613</td>\n",
       "      <td>6.181188</td>\n",
       "      <td>114.374751</td>\n",
       "    </tr>\n",
       "    <tr>\n",
       "      <td>16</td>\n",
       "      <td></td>\n",
       "      <td>2019-10-13 17:57:34</td>\n",
       "      <td>8.022 sec</td>\n",
       "      <td>80.0</td>\n",
       "      <td>9.703670</td>\n",
       "      <td>5.392421</td>\n",
       "      <td>94.161208</td>\n",
       "    </tr>\n",
       "    <tr>\n",
       "      <td>17</td>\n",
       "      <td></td>\n",
       "      <td>2019-10-13 17:57:34</td>\n",
       "      <td>8.049 sec</td>\n",
       "      <td>85.0</td>\n",
       "      <td>8.964688</td>\n",
       "      <td>4.772766</td>\n",
       "      <td>80.365635</td>\n",
       "    </tr>\n",
       "    <tr>\n",
       "      <td>18</td>\n",
       "      <td></td>\n",
       "      <td>2019-10-13 17:57:34</td>\n",
       "      <td>8.095 sec</td>\n",
       "      <td>90.0</td>\n",
       "      <td>8.305158</td>\n",
       "      <td>4.270199</td>\n",
       "      <td>68.975647</td>\n",
       "    </tr>\n",
       "    <tr>\n",
       "      <td>19</td>\n",
       "      <td></td>\n",
       "      <td>2019-10-13 17:57:34</td>\n",
       "      <td>8.134 sec</td>\n",
       "      <td>95.0</td>\n",
       "      <td>7.769444</td>\n",
       "      <td>3.885413</td>\n",
       "      <td>60.364255</td>\n",
       "    </tr>\n",
       "  </tbody>\n",
       "</table>\n",
       "</div>"
      ],
      "text/plain": [
       "                timestamp    duration  number_of_trees  training_rmse  \\\n",
       "0     2019-10-13 17:57:34   7.671 sec              0.0     190.373047   \n",
       "1     2019-10-13 17:57:34   7.723 sec              5.0     149.532418   \n",
       "2     2019-10-13 17:57:34   7.752 sec             10.0     117.732987   \n",
       "3     2019-10-13 17:57:34   7.765 sec             15.0      93.336780   \n",
       "4     2019-10-13 17:57:34   7.778 sec             20.0      73.986099   \n",
       "5     2019-10-13 17:57:34   7.791 sec             25.0      59.218418   \n",
       "6     2019-10-13 17:57:34   7.805 sec             30.0      47.920687   \n",
       "7     2019-10-13 17:57:34   7.822 sec             35.0      38.965615   \n",
       "8     2019-10-13 17:57:34   7.839 sec             40.0      31.710381   \n",
       "9     2019-10-13 17:57:34   7.865 sec             45.0      26.092003   \n",
       "10    2019-10-13 17:57:34   7.886 sec             50.0      21.714623   \n",
       "11    2019-10-13 17:57:34   7.915 sec             55.0      18.262754   \n",
       "12    2019-10-13 17:57:34   7.935 sec             60.0      15.575721   \n",
       "13    2019-10-13 17:57:34   7.954 sec             65.0      13.586356   \n",
       "14    2019-10-13 17:57:34   7.975 sec             70.0      11.930308   \n",
       "15    2019-10-13 17:57:34   8.000 sec             75.0      10.694613   \n",
       "16    2019-10-13 17:57:34   8.022 sec             80.0       9.703670   \n",
       "17    2019-10-13 17:57:34   8.049 sec             85.0       8.964688   \n",
       "18    2019-10-13 17:57:34   8.095 sec             90.0       8.305158   \n",
       "19    2019-10-13 17:57:34   8.134 sec             95.0       7.769444   \n",
       "\n",
       "    training_mae  training_deviance  \n",
       "0     170.668317       36241.896865  \n",
       "1     132.885208       22359.944020  \n",
       "2     103.525226       13861.056202  \n",
       "3      80.942658        8711.754547  \n",
       "4      63.335933        5473.942868  \n",
       "5      49.600698        3506.821003  \n",
       "6      39.070404        2296.392236  \n",
       "7      30.828134        1518.319137  \n",
       "8      24.467866        1005.548255  \n",
       "9      19.469845         680.792638  \n",
       "10     15.667819         471.524831  \n",
       "11     12.661199         333.528188  \n",
       "12     10.352535         242.603100  \n",
       "13      8.613138         184.589077  \n",
       "14      7.249029         142.332250  \n",
       "15      6.181188         114.374751  \n",
       "16      5.392421          94.161208  \n",
       "17      4.772766          80.365635  \n",
       "18      4.270199          68.975647  \n",
       "19      3.885413          60.364255  "
      ]
     },
     "metadata": {},
     "output_type": "display_data"
    },
    {
     "name": "stdout",
     "output_type": "stream",
     "text": [
      "\n",
      "See the whole table with table.as_data_frame()\n",
      "\n",
      "Variable Importances: \n"
     ]
    },
    {
     "data": {
      "text/html": [
       "<div>\n",
       "<style scoped>\n",
       "    .dataframe tbody tr th:only-of-type {\n",
       "        vertical-align: middle;\n",
       "    }\n",
       "\n",
       "    .dataframe tbody tr th {\n",
       "        vertical-align: top;\n",
       "    }\n",
       "\n",
       "    .dataframe thead th {\n",
       "        text-align: right;\n",
       "    }\n",
       "</style>\n",
       "<table border=\"1\" class=\"dataframe\">\n",
       "  <thead>\n",
       "    <tr style=\"text-align: right;\">\n",
       "      <th></th>\n",
       "      <th>variable</th>\n",
       "      <th>relative_importance</th>\n",
       "      <th>scaled_importance</th>\n",
       "      <th>percentage</th>\n",
       "    </tr>\n",
       "  </thead>\n",
       "  <tbody>\n",
       "    <tr>\n",
       "      <td>0</td>\n",
       "      <td>Chargetime_minutes</td>\n",
       "      <td>1.165909e+07</td>\n",
       "      <td>1.000000</td>\n",
       "      <td>0.472863</td>\n",
       "    </tr>\n",
       "    <tr>\n",
       "      <td>1</td>\n",
       "      <td>Unique_Drivers</td>\n",
       "      <td>5.860452e+06</td>\n",
       "      <td>0.502651</td>\n",
       "      <td>0.237685</td>\n",
       "    </tr>\n",
       "    <tr>\n",
       "      <td>2</td>\n",
       "      <td>NoOfSessions</td>\n",
       "      <td>5.031834e+06</td>\n",
       "      <td>0.431580</td>\n",
       "      <td>0.204078</td>\n",
       "    </tr>\n",
       "    <tr>\n",
       "      <td>3</td>\n",
       "      <td>Speed_energy_transmittion</td>\n",
       "      <td>1.500402e+06</td>\n",
       "      <td>0.128690</td>\n",
       "      <td>0.060852</td>\n",
       "    </tr>\n",
       "    <tr>\n",
       "      <td>4</td>\n",
       "      <td>C1</td>\n",
       "      <td>3.901976e+05</td>\n",
       "      <td>0.033467</td>\n",
       "      <td>0.015825</td>\n",
       "    </tr>\n",
       "    <tr>\n",
       "      <td>5</td>\n",
       "      <td>NoofPorts</td>\n",
       "      <td>7.777334e+04</td>\n",
       "      <td>0.006671</td>\n",
       "      <td>0.003154</td>\n",
       "    </tr>\n",
       "    <tr>\n",
       "      <td>6</td>\n",
       "      <td>day</td>\n",
       "      <td>6.412303e+04</td>\n",
       "      <td>0.005500</td>\n",
       "      <td>0.002601</td>\n",
       "    </tr>\n",
       "    <tr>\n",
       "      <td>7</td>\n",
       "      <td>Year</td>\n",
       "      <td>1.267040e+04</td>\n",
       "      <td>0.001087</td>\n",
       "      <td>0.000514</td>\n",
       "    </tr>\n",
       "    <tr>\n",
       "      <td>8</td>\n",
       "      <td>Saturday</td>\n",
       "      <td>1.103537e+04</td>\n",
       "      <td>0.000947</td>\n",
       "      <td>0.000448</td>\n",
       "    </tr>\n",
       "    <tr>\n",
       "      <td>9</td>\n",
       "      <td>Feb</td>\n",
       "      <td>1.097741e+04</td>\n",
       "      <td>0.000942</td>\n",
       "      <td>0.000445</td>\n",
       "    </tr>\n",
       "    <tr>\n",
       "      <td>10</td>\n",
       "      <td>Wednesday</td>\n",
       "      <td>1.021792e+04</td>\n",
       "      <td>0.000876</td>\n",
       "      <td>0.000414</td>\n",
       "    </tr>\n",
       "    <tr>\n",
       "      <td>11</td>\n",
       "      <td>Friday</td>\n",
       "      <td>4.652437e+03</td>\n",
       "      <td>0.000399</td>\n",
       "      <td>0.000189</td>\n",
       "    </tr>\n",
       "    <tr>\n",
       "      <td>12</td>\n",
       "      <td>Monday</td>\n",
       "      <td>3.673377e+03</td>\n",
       "      <td>0.000315</td>\n",
       "      <td>0.000149</td>\n",
       "    </tr>\n",
       "    <tr>\n",
       "      <td>13</td>\n",
       "      <td>Sunday</td>\n",
       "      <td>3.215477e+03</td>\n",
       "      <td>0.000276</td>\n",
       "      <td>0.000130</td>\n",
       "    </tr>\n",
       "    <tr>\n",
       "      <td>14</td>\n",
       "      <td>Nov</td>\n",
       "      <td>2.523264e+03</td>\n",
       "      <td>0.000216</td>\n",
       "      <td>0.000102</td>\n",
       "    </tr>\n",
       "    <tr>\n",
       "      <td>15</td>\n",
       "      <td>Tuesday</td>\n",
       "      <td>1.743297e+03</td>\n",
       "      <td>0.000150</td>\n",
       "      <td>0.000071</td>\n",
       "    </tr>\n",
       "    <tr>\n",
       "      <td>16</td>\n",
       "      <td>Jul</td>\n",
       "      <td>1.691614e+03</td>\n",
       "      <td>0.000145</td>\n",
       "      <td>0.000069</td>\n",
       "    </tr>\n",
       "    <tr>\n",
       "      <td>17</td>\n",
       "      <td>Thursday</td>\n",
       "      <td>1.620659e+03</td>\n",
       "      <td>0.000139</td>\n",
       "      <td>0.000066</td>\n",
       "    </tr>\n",
       "    <tr>\n",
       "      <td>18</td>\n",
       "      <td>Jan</td>\n",
       "      <td>1.460953e+03</td>\n",
       "      <td>0.000125</td>\n",
       "      <td>0.000059</td>\n",
       "    </tr>\n",
       "    <tr>\n",
       "      <td>19</td>\n",
       "      <td>Sep</td>\n",
       "      <td>1.221936e+03</td>\n",
       "      <td>0.000105</td>\n",
       "      <td>0.000050</td>\n",
       "    </tr>\n",
       "  </tbody>\n",
       "</table>\n",
       "</div>"
      ],
      "text/plain": [
       "                     variable  relative_importance  scaled_importance  \\\n",
       "0          Chargetime_minutes         1.165909e+07           1.000000   \n",
       "1              Unique_Drivers         5.860452e+06           0.502651   \n",
       "2                NoOfSessions         5.031834e+06           0.431580   \n",
       "3   Speed_energy_transmittion         1.500402e+06           0.128690   \n",
       "4                          C1         3.901976e+05           0.033467   \n",
       "5                   NoofPorts         7.777334e+04           0.006671   \n",
       "6                         day         6.412303e+04           0.005500   \n",
       "7                        Year         1.267040e+04           0.001087   \n",
       "8                    Saturday         1.103537e+04           0.000947   \n",
       "9                         Feb         1.097741e+04           0.000942   \n",
       "10                  Wednesday         1.021792e+04           0.000876   \n",
       "11                     Friday         4.652437e+03           0.000399   \n",
       "12                     Monday         3.673377e+03           0.000315   \n",
       "13                     Sunday         3.215477e+03           0.000276   \n",
       "14                        Nov         2.523264e+03           0.000216   \n",
       "15                    Tuesday         1.743297e+03           0.000150   \n",
       "16                        Jul         1.691614e+03           0.000145   \n",
       "17                   Thursday         1.620659e+03           0.000139   \n",
       "18                        Jan         1.460953e+03           0.000125   \n",
       "19                        Sep         1.221936e+03           0.000105   \n",
       "\n",
       "    percentage  \n",
       "0     0.472863  \n",
       "1     0.237685  \n",
       "2     0.204078  \n",
       "3     0.060852  \n",
       "4     0.015825  \n",
       "5     0.003154  \n",
       "6     0.002601  \n",
       "7     0.000514  \n",
       "8     0.000448  \n",
       "9     0.000445  \n",
       "10    0.000414  \n",
       "11    0.000189  \n",
       "12    0.000149  \n",
       "13    0.000130  \n",
       "14    0.000102  \n",
       "15    0.000071  \n",
       "16    0.000069  \n",
       "17    0.000066  \n",
       "18    0.000059  \n",
       "19    0.000050  "
      ]
     },
     "metadata": {},
     "output_type": "display_data"
    },
    {
     "name": "stdout",
     "output_type": "stream",
     "text": [
      "\n",
      "See the whole table with table.as_data_frame()\n"
     ]
    },
    {
     "data": {
      "text/plain": []
     },
     "execution_count": 47,
     "metadata": {},
     "output_type": "execute_result"
    }
   ],
   "source": [
    "aml.leader"
   ]
  },
  {
   "cell_type": "markdown",
   "metadata": {},
   "source": [
    "- **aml.leader** tells about the algorithm that ranked top on the leaderboard above.\n",
    "** we can see in the Reported on Cross validation data** that we have Mean Absolute Error 7.53%, which mean our accuracy is upto **92.47%**"
   ]
  },
  {
   "cell_type": "markdown",
   "metadata": {},
   "source": [
    "#### Model results in predicting Energy\n",
    "- Linear regression                - 83%\n",
    "- Random forest Regressor          - 91%\n",
    "- XGB Regressor                    - 91.5%\n",
    "- H2OAutoML                        - 92.47%"
   ]
  },
  {
   "cell_type": "markdown",
   "metadata": {},
   "source": [
    "### Actual vs PRedicted Energy consumption"
   ]
  },
  {
   "cell_type": "code",
   "execution_count": 361,
   "metadata": {},
   "outputs": [],
   "source": [
    "Engre = pd.DataFrame()\n",
    "Engre['Actual'] = Y_test\n",
    "Engre['Predicted'] = y_pred_xgb"
   ]
  },
  {
   "cell_type": "code",
   "execution_count": 362,
   "metadata": {},
   "outputs": [
    {
     "data": {
      "image/png": "[encoded data removed]",
      "text/plain": [
       "<Figure size 864x432 with 1 Axes>"
      ]
     },
     "metadata": {
      "needs_background": "light"
     },
     "output_type": "display_data"
    }
   ],
   "source": [
    "plt.figure(figsize = (12,6))\n",
    "\n",
    "plt.style.use('fivethirtyeight')\n",
    "plt.plot(Engre['Actual'],'ro')\n",
    "plt.plot(Engre['Predicted'],'bo')\n",
    "plt.title('Actual vs Predicted Gasoline values')\n",
    "\n",
    "\n",
    "plt.show()"
   ]
  },
  {
   "cell_type": "code",
   "execution_count": null,
   "metadata": {},
   "outputs": [],
   "source": []
  },
  {
   "cell_type": "markdown",
   "metadata": {},
   "source": [
    "## Predicting GHG savings"
   ]
  },
  {
   "cell_type": "code",
   "execution_count": 363,
   "metadata": {},
   "outputs": [],
   "source": [
    "#decide variables\n",
    "x1 = data.drop(['GHG_savings_kg'],axis = 1)\n",
    "y1 = data['GHG_savings_kg']"
   ]
  },
  {
   "cell_type": "code",
   "execution_count": 364,
   "metadata": {},
   "outputs": [
    {
     "data": {
      "text/plain": [
       "Index(['No_Of_Sessions', 'Unique_Drivers', 'No_of_ports', 'Energy_kwh',\n",
       "       'Charge_time', 'Gasoline_Savings', 'Speed_energy_transmittion', 'Year',\n",
       "       'day', 'Apr', 'Aug', 'Dec', 'Feb', 'Jan', 'Jul', 'Jun', 'Mar', 'May',\n",
       "       'Nov', 'Oct', 'Sep', 'Friday', 'Monday', 'Saturday', 'Sunday',\n",
       "       'Thursday', 'Tuesday', 'Wednesday'],\n",
       "      dtype='object')"
      ]
     },
     "execution_count": 364,
     "metadata": {},
     "output_type": "execute_result"
    }
   ],
   "source": [
    "x1.columns"
   ]
  },
  {
   "cell_type": "code",
   "execution_count": 365,
   "metadata": {},
   "outputs": [],
   "source": [
    "# Model building\n",
    "# train_test split\n",
    "import sklearn\n",
    "from sklearn.model_selection import train_test_split\n",
    "X_train,X_test,Y_train,Y_test = train_test_split(x1,y1,test_size = 0.3,random_state = 33)"
   ]
  },
  {
   "cell_type": "markdown",
   "metadata": {},
   "source": [
    "### Linear regression"
   ]
  },
  {
   "cell_type": "code",
   "execution_count": 366,
   "metadata": {},
   "outputs": [],
   "source": [
    "#linear regression\n",
    "from sklearn.linear_model import LinearRegression\n",
    "lr = LinearRegression()\n",
    "lr.fit(X_train,Y_train)\n",
    "y_pred_lr = lr.predict(X_test)"
   ]
  },
  {
   "cell_type": "code",
   "execution_count": 367,
   "metadata": {},
   "outputs": [
    {
     "name": "stdout",
     "output_type": "stream",
     "text": [
      "MAE:0.28695818966811965\n",
      "MSE:0.1161754086333102\n",
      "RMSE:0.5356847857351557\n"
     ]
    }
   ],
   "source": [
    "from sklearn.metrics import mean_absolute_error\n",
    "print('MAE:'+ str(mean_absolute_error(y_pred_lr, Y_test)))\n",
    "\n",
    "from sklearn.metrics import mean_squared_error\n",
    "print('MSE:' +str(mean_squared_error(y_pred_lr,Y_test)))\n",
    "\n",
    "from math import sqrt\n",
    "print('RMSE:'+str(sqrt(mean_absolute_error(y_pred_lr,Y_test))))"
   ]
  },
  {
   "cell_type": "markdown",
   "metadata": {},
   "source": [
    "### Random forest regressor"
   ]
  },
  {
   "cell_type": "code",
   "execution_count": 368,
   "metadata": {},
   "outputs": [],
   "source": [
    "from sklearn.ensemble import RandomForestRegressor\n",
    "rfr  =RandomForestRegressor()\n",
    "rfr.fit(X_train,Y_train)\n",
    "y_pred_rfr = rfr.predict(X_test)"
   ]
  },
  {
   "cell_type": "code",
   "execution_count": 369,
   "metadata": {},
   "outputs": [
    {
     "name": "stdout",
     "output_type": "stream",
     "text": [
      "MAE:0.6236263736263732\n",
      "MSE:3.776098901098899\n",
      "RMSE:0.7897001795785368\n"
     ]
    }
   ],
   "source": [
    "from sklearn.metrics import mean_absolute_error\n",
    "print('MAE:'+ str(mean_absolute_error(y_pred_rfr, Y_test)))\n",
    "\n",
    "\n",
    "\n",
    "from sklearn.metrics import mean_squared_error\n",
    "print('MSE:' +str(mean_squared_error(y_pred_rfr,Y_test)))\n",
    "\n",
    "from math import sqrt\n",
    "print('RMSE:'+str(sqrt(mean_absolute_error(y_pred_rfr,Y_test))))"
   ]
  },
  {
   "cell_type": "markdown",
   "metadata": {},
   "source": [
    "### XGB Regressor"
   ]
  },
  {
   "cell_type": "code",
   "execution_count": 370,
   "metadata": {},
   "outputs": [
    {
     "name": "stdout",
     "output_type": "stream",
     "text": [
      "[11:45:23] WARNING: /workspace/src/objective/regression_obj.cu:152: reg:linear is now deprecated in favor of reg:squarederror.\n"
     ]
    }
   ],
   "source": [
    "import xgboost as XGB\n",
    "xgb = XGB.XGBRegressor()\n",
    "xgb.fit(X_train,Y_train)\n",
    "y_pred_xgb = xgb.predict(X_test)\n",
    "y_train_xgb = xgb.predict(X_train)"
   ]
  },
  {
   "cell_type": "code",
   "execution_count": 371,
   "metadata": {},
   "outputs": [
    {
     "name": "stdout",
     "output_type": "stream",
     "text": [
      "MAE of test: 0.5880699328013829\n",
      "MAE of train:0.16856097500279266\n",
      "MSE:3.005989074625163\n",
      "RMSE:0.7668571788810371\n"
     ]
    }
   ],
   "source": [
    "from sklearn.metrics import mean_absolute_error\n",
    "print('MAE of test: '+ str(mean_absolute_error(y_pred_xgb, Y_test)))\n",
    "print('MAE of train:'+ str(mean_absolute_error(y_train_xgb, Y_train)))\n",
    "\n",
    "from sklearn.metrics import mean_squared_error\n",
    "print('MSE:' +str(mean_squared_error(y_pred_xgb,Y_test)))\n",
    "\n",
    "from math import sqrt\n",
    "print('RMSE:'+str(sqrt(mean_absolute_error(y_pred_xgb,Y_test))))"
   ]
  },
  {
   "cell_type": "markdown",
   "metadata": {},
   "source": [
    "#### Feature importance in XGBRegressor"
   ]
  },
  {
   "cell_type": "code",
   "execution_count": 372,
   "metadata": {},
   "outputs": [
    {
     "data": {
      "image/png": "[encoded data removed]",
      "text/plain": [
       "<Figure size 432x288 with 1 Axes>"
      ]
     },
     "metadata": {},
     "output_type": "display_data"
    }
   ],
   "source": [
    "from xgboost import plot_importance\n",
    "import matplotlib.pyplot as plt\n",
    "\n",
    "\n",
    "# plot feature importance\n",
    "plot_importance(xgb)\n",
    "plt.show()"
   ]
  },
  {
   "cell_type": "markdown",
   "metadata": {},
   "source": [
    "### boosting tree visualization"
   ]
  },
  {
   "cell_type": "code",
   "execution_count": 373,
   "metadata": {},
   "outputs": [
    {
     "data": {
      "text/plain": [
       "<Figure size 864x432 with 0 Axes>"
      ]
     },
     "metadata": {},
     "output_type": "display_data"
    },
    {
     "data": {
      "image/png": "[encoded data removed]",
      "text/plain": [
       "<Figure size 432x288 with 1 Axes>"
      ]
     },
     "metadata": {},
     "output_type": "display_data"
    }
   ],
   "source": [
    "import matplotlib.pyplot as plt\n",
    "from xgboost import plot_tree\n",
    "\n",
    "plt.figure(figsize =(12,6))\n",
    "plot_tree(xgb,num_trees=5)\n",
    "plt.show()"
   ]
  },
  {
   "cell_type": "code",
   "execution_count": null,
   "metadata": {},
   "outputs": [],
   "source": []
  },
  {
   "cell_type": "markdown",
   "metadata": {},
   "source": [
    "#### Model Results in predicting GHG:-\n",
    "- Linear Regression              - 99.8%\n",
    "- Random Forest Regressor        - 99.5%\n",
    "- XGB Regressor                  - 99.5%"
   ]
  },
  {
   "cell_type": "markdown",
   "metadata": {},
   "source": [
    "### Actual vs Predicted GHG values"
   ]
  },
  {
   "cell_type": "code",
   "execution_count": 374,
   "metadata": {},
   "outputs": [],
   "source": [
    "Ghgre = pd.DataFrame()\n",
    "Ghgre['Actual'] = Y_test\n",
    "Ghgre['Predicted'] = y_pred_xgb"
   ]
  },
  {
   "cell_type": "code",
   "execution_count": 375,
   "metadata": {},
   "outputs": [
    {
     "data": {
      "image/png": "[encoded data removed]",
      "text/plain": [
       "<Figure size 864x432 with 1 Axes>"
      ]
     },
     "metadata": {},
     "output_type": "display_data"
    }
   ],
   "source": [
    "plt.figure(figsize = (12,6))\n",
    "plt.plot(Ghgre['Actual'],'ro')\n",
    "plt.plot(Ghgre['Predicted'],'bo')\n",
    "plt.title('Actual vs Predicted GHG values')\n",
    "\n",
    "\n",
    "plt.show()"
   ]
  },
  {
   "cell_type": "code",
   "execution_count": null,
   "metadata": {},
   "outputs": [],
   "source": []
  },
  {
   "cell_type": "code",
   "execution_count": null,
   "metadata": {},
   "outputs": [],
   "source": []
  },
  {
   "cell_type": "code",
   "execution_count": null,
   "metadata": {},
   "outputs": [],
   "source": []
  },
  {
   "cell_type": "markdown",
   "metadata": {},
   "source": [
    "## Predicting Gasoline savings"
   ]
  },
  {
   "cell_type": "code",
   "execution_count": 376,
   "metadata": {},
   "outputs": [],
   "source": [
    "#decide variables\n",
    "x2 = data.drop(['Gasoline_Savings'],axis = 1)\n",
    "y2 = data['Gasoline_Savings']"
   ]
  },
  {
   "cell_type": "code",
   "execution_count": 377,
   "metadata": {},
   "outputs": [
    {
     "data": {
      "text/plain": [
       "Index(['No_Of_Sessions', 'Unique_Drivers', 'No_of_ports', 'Energy_kwh',\n",
       "       'GHG_savings_kg', 'Charge_time', 'Speed_energy_transmittion', 'Year',\n",
       "       'day', 'Apr', 'Aug', 'Dec', 'Feb', 'Jan', 'Jul', 'Jun', 'Mar', 'May',\n",
       "       'Nov', 'Oct', 'Sep', 'Friday', 'Monday', 'Saturday', 'Sunday',\n",
       "       'Thursday', 'Tuesday', 'Wednesday'],\n",
       "      dtype='object')"
      ]
     },
     "execution_count": 377,
     "metadata": {},
     "output_type": "execute_result"
    }
   ],
   "source": [
    "x2.columns"
   ]
  },
  {
   "cell_type": "code",
   "execution_count": 378,
   "metadata": {},
   "outputs": [],
   "source": [
    "# Model building\n",
    "# train_test split\n",
    "import sklearn\n",
    "from sklearn.model_selection import train_test_split\n",
    "X_train,X_test,Y_train,Y_test = train_test_split(x2,y2,test_size = 0.3,random_state = 33)"
   ]
  },
  {
   "cell_type": "markdown",
   "metadata": {},
   "source": [
    "### Linear regression"
   ]
  },
  {
   "cell_type": "code",
   "execution_count": 379,
   "metadata": {},
   "outputs": [],
   "source": [
    "#linear regression\n",
    "from sklearn.linear_model import LinearRegression\n",
    "lr = LinearRegression()\n",
    "lr.fit(X_train,Y_train)\n",
    "y_pred_lr = lr.predict(X_test)"
   ]
  },
  {
   "cell_type": "code",
   "execution_count": 380,
   "metadata": {},
   "outputs": [
    {
     "name": "stdout",
     "output_type": "stream",
     "text": [
      "MAE:1.4079780094741\n",
      "MSE:4.771132087600069\n",
      "RMSE:1.1865824916431642\n"
     ]
    }
   ],
   "source": [
    "from sklearn.metrics import mean_absolute_error\n",
    "print('MAE:'+ str(mean_absolute_error(y_pred_lr, Y_test)))\n",
    "\n",
    "from sklearn.metrics import mean_squared_error\n",
    "print('MSE:' +str(mean_squared_error(y_pred_lr,Y_test)))\n",
    "\n",
    "from math import sqrt\n",
    "print('RMSE:'+str(sqrt(mean_absolute_error(y_pred_lr,Y_test))))"
   ]
  },
  {
   "cell_type": "markdown",
   "metadata": {},
   "source": [
    "### Random Forest Regressor"
   ]
  },
  {
   "cell_type": "code",
   "execution_count": 381,
   "metadata": {},
   "outputs": [],
   "source": [
    "from sklearn.ensemble import RandomForestRegressor\n",
    "rfr  =RandomForestRegressor()\n",
    "rfr.fit(X_train,Y_train)\n",
    "y_pred_rfr = rfr.predict(X_test)"
   ]
  },
  {
   "cell_type": "code",
   "execution_count": 382,
   "metadata": {},
   "outputs": [
    {
     "name": "stdout",
     "output_type": "stream",
     "text": [
      "MAE:1.1139565934065934\n",
      "MSE:3.2888381093956047\n",
      "RMSE:1.055441421115636\n"
     ]
    }
   ],
   "source": [
    "from sklearn.metrics import mean_absolute_error\n",
    "print('MAE:'+ str(mean_absolute_error(y_pred_rfr, Y_test)))\n",
    "\n",
    "from sklearn.metrics import mean_squared_error\n",
    "print('MSE:' +str(mean_squared_error(y_pred_rfr,Y_test)))\n",
    "\n",
    "from math import sqrt\n",
    "print('RMSE:'+str(sqrt(mean_absolute_error(y_pred_rfr,Y_test))))"
   ]
  },
  {
   "cell_type": "markdown",
   "metadata": {},
   "source": [
    "### XGBoost regressor"
   ]
  },
  {
   "cell_type": "code",
   "execution_count": 383,
   "metadata": {},
   "outputs": [
    {
     "name": "stdout",
     "output_type": "stream",
     "text": [
      "[11:45:28] WARNING: /workspace/src/objective/regression_obj.cu:152: reg:linear is now deprecated in favor of reg:squarederror.\n"
     ]
    }
   ],
   "source": [
    "import xgboost as XGB\n",
    "xgb = XGB.XGBRegressor()\n",
    "xgb.fit(X_train,Y_train)\n",
    "y_pred_xgb = xgb.predict(X_test)"
   ]
  },
  {
   "cell_type": "code",
   "execution_count": 384,
   "metadata": {},
   "outputs": [
    {
     "name": "stdout",
     "output_type": "stream",
     "text": [
      "MAE:1.1320944491271134\n",
      "MSE:2.9796835405946656\n",
      "RMSE:1.0639992712061006\n"
     ]
    }
   ],
   "source": [
    "from sklearn.metrics import mean_absolute_error\n",
    "print('MAE:'+ str(mean_absolute_error(y_pred_xgb, Y_test)))\n",
    "\n",
    "from sklearn.metrics import mean_squared_error\n",
    "print('MSE:' +str(mean_squared_error(y_pred_xgb,Y_test)))\n",
    "\n",
    "from math import sqrt\n",
    "print('RMSE:'+str(sqrt(mean_absolute_error(y_pred_xgb,Y_test))))"
   ]
  },
  {
   "cell_type": "code",
   "execution_count": 385,
   "metadata": {},
   "outputs": [
    {
     "data": {
      "image/png": "[encoded data removed]",
      "text/plain": [
       "<Figure size 432x288 with 1 Axes>"
      ]
     },
     "metadata": {},
     "output_type": "display_data"
    }
   ],
   "source": [
    "from xgboost import plot_importance\n",
    "import matplotlib.pyplot as plt\n",
    "\n",
    "# plot feature importance\n",
    "plot_importance(xgb)\n",
    "plt.show()"
   ]
  },
  {
   "cell_type": "code",
   "execution_count": 386,
   "metadata": {},
   "outputs": [
    {
     "data": {
      "text/plain": [
       "<Figure size 3600x720 with 0 Axes>"
      ]
     },
     "metadata": {},
     "output_type": "display_data"
    },
    {
     "data": {
      "image/png": "[encoded data removed]",
      "text/plain": [
       "<Figure size 432x288 with 1 Axes>"
      ]
     },
     "metadata": {},
     "output_type": "display_data"
    }
   ],
   "source": [
    "import matplotlib.pyplot as plt\n",
    "from xgboost import plot_tree\n",
    "\n",
    "plt.figure(figsize =(50,10))\n",
    "plot_tree(xgb,num_trees=5)\n",
    "#xgb.to_graphviz(xgb, num_trees=2)\n",
    "#plt.rcParams['figure.figsize'] = [12, 10]\n",
    "#plt.rcParams['figure.figsize'] = [50, 10]\n",
    "plt.show()"
   ]
  },
  {
   "cell_type": "markdown",
   "metadata": {},
   "source": [
    "#### Model Results in predicting Gasoline:-\n",
    "- Linear Regression              - 98.6%\n",
    "- Random Forest Regressor        - 98.8%\n",
    "- XGB Regressor                  - 98.9%"
   ]
  },
  {
   "cell_type": "markdown",
   "metadata": {},
   "source": [
    "### Actual vs predicted"
   ]
  },
  {
   "cell_type": "code",
   "execution_count": 387,
   "metadata": {},
   "outputs": [],
   "source": [
    "Gasre = pd.DataFrame()\n",
    "Gasre['Actual'] = Y_test\n",
    "Gasre['Predicted'] = y_pred_xgb"
   ]
  },
  {
   "cell_type": "code",
   "execution_count": 388,
   "metadata": {},
   "outputs": [
    {
     "data": {
      "text/html": [
       "<div>\n",
       "<style scoped>\n",
       "    .dataframe tbody tr th:only-of-type {\n",
       "        vertical-align: middle;\n",
       "    }\n",
       "\n",
       "    .dataframe tbody tr th {\n",
       "        vertical-align: top;\n",
       "    }\n",
       "\n",
       "    .dataframe thead th {\n",
       "        text-align: right;\n",
       "    }\n",
       "</style>\n",
       "<table border=\"1\" class=\"dataframe\">\n",
       "  <thead>\n",
       "    <tr style=\"text-align: right;\">\n",
       "      <th></th>\n",
       "      <th>Actual</th>\n",
       "      <th>Predicted</th>\n",
       "    </tr>\n",
       "  </thead>\n",
       "  <tbody>\n",
       "    <tr>\n",
       "      <td>477</td>\n",
       "      <td>30.19</td>\n",
       "      <td>31.283628</td>\n",
       "    </tr>\n",
       "    <tr>\n",
       "      <td>445</td>\n",
       "      <td>41.04</td>\n",
       "      <td>44.190590</td>\n",
       "    </tr>\n",
       "    <tr>\n",
       "      <td>381</td>\n",
       "      <td>30.94</td>\n",
       "      <td>30.734756</td>\n",
       "    </tr>\n",
       "    <tr>\n",
       "      <td>44</td>\n",
       "      <td>7.11</td>\n",
       "      <td>8.118158</td>\n",
       "    </tr>\n",
       "    <tr>\n",
       "      <td>529</td>\n",
       "      <td>24.78</td>\n",
       "      <td>24.567326</td>\n",
       "    </tr>\n",
       "    <tr>\n",
       "      <td>...</td>\n",
       "      <td>...</td>\n",
       "      <td>...</td>\n",
       "    </tr>\n",
       "    <tr>\n",
       "      <td>310</td>\n",
       "      <td>24.45</td>\n",
       "      <td>24.631430</td>\n",
       "    </tr>\n",
       "    <tr>\n",
       "      <td>191</td>\n",
       "      <td>20.09</td>\n",
       "      <td>17.668150</td>\n",
       "    </tr>\n",
       "    <tr>\n",
       "      <td>402</td>\n",
       "      <td>39.85</td>\n",
       "      <td>41.246346</td>\n",
       "    </tr>\n",
       "    <tr>\n",
       "      <td>8</td>\n",
       "      <td>6.12</td>\n",
       "      <td>6.849009</td>\n",
       "    </tr>\n",
       "    <tr>\n",
       "      <td>341</td>\n",
       "      <td>25.73</td>\n",
       "      <td>26.693451</td>\n",
       "    </tr>\n",
       "  </tbody>\n",
       "</table>\n",
       "<p>182 rows × 2 columns</p>\n",
       "</div>"
      ],
      "text/plain": [
       "     Actual  Predicted\n",
       "477   30.19  31.283628\n",
       "445   41.04  44.190590\n",
       "381   30.94  30.734756\n",
       "44     7.11   8.118158\n",
       "529   24.78  24.567326\n",
       "..      ...        ...\n",
       "310   24.45  24.631430\n",
       "191   20.09  17.668150\n",
       "402   39.85  41.246346\n",
       "8      6.12   6.849009\n",
       "341   25.73  26.693451\n",
       "\n",
       "[182 rows x 2 columns]"
      ]
     },
     "execution_count": 388,
     "metadata": {},
     "output_type": "execute_result"
    }
   ],
   "source": [
    "Gasre"
   ]
  },
  {
   "cell_type": "code",
   "execution_count": 389,
   "metadata": {},
   "outputs": [
    {
     "data": {
      "image/png": "[encoded data removed]",
      "text/plain": [
       "<Figure size 864x432 with 1 Axes>"
      ]
     },
     "metadata": {},
     "output_type": "display_data"
    }
   ],
   "source": [
    "plt.figure(figsize = (12,6))\n",
    "plt.plot(Gasre['Actual'],'ro')\n",
    "plt.plot(Gasre['Predicted'],'bo')\n",
    "plt.title('Actual vs Predicted Gasoline values')\n",
    "\n",
    "\n",
    "plt.show()"
   ]
  },
  {
   "cell_type": "code",
   "execution_count": null,
   "metadata": {},
   "outputs": [],
   "source": []
  },
  {
   "cell_type": "code",
   "execution_count": null,
   "metadata": {},
   "outputs": [],
   "source": []
  },
  {
   "cell_type": "code",
   "execution_count": null,
   "metadata": {},
   "outputs": [],
   "source": []
  },
  {
   "cell_type": "code",
   "execution_count": null,
   "metadata": {},
   "outputs": [],
   "source": []
  },
  {
   "cell_type": "code",
   "execution_count": null,
   "metadata": {},
   "outputs": [],
   "source": []
  }
 ],
 "metadata": {
  "kernelspec": {
   "display_name": "Python 3",
   "language": "python",
   "name": "python3"
  },
  "language_info": {
   "codemirror_mode": {
    "name": "ipython",
    "version": 3
   },
   "file_extension": ".py",
   "mimetype": "text/x-python",
   "name": "python",
   "nbconvert_exporter": "python",
   "pygments_lexer": "ipython3",
   "version": "3.6.8"
  }
 },
 "nbformat": 4,
 "nbformat_minor": 2
}

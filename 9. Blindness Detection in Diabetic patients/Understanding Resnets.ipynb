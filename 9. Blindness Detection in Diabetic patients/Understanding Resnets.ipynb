{
 "cells": [
  {
   "cell_type": "markdown",
   "metadata": {},
   "source": [
    "## understanding resnets"
   ]
  },
  {
   "cell_type": "markdown",
   "metadata": {},
   "source": [
    "- Had layers, Architecture table, structure diagram, other model comparision below.\n",
    "    - https://neurohive.io/en/popular-networks/resnet/\n",
    "- Had Architecture table, Residual explanation, layers with 2000 likes medium\n",
    "    - https://medium.com/@14prakash/understanding-and-implementing-architectures-of-resnet-and-resnext-for-state-of-the-art-image-cf51669e1624\n",
    "- Quora nice and simple explanation here\n",
    "    - https://www.quora.com/What-is-ResNet-50-How-does-it-work-and-how-many-layers-does-it-have\n",
    "- one more clear explanation blog here below\n",
    "    - https://towardsdatascience.com/understanding-and-coding-a-resnet-in-keras-446d7ff84d33\n",
    "- ### The best explained with filter visualization and layers\n",
    "    - https://towardsdatascience.com/understanding-and-visualizing-resnets-442284831be8\n"
   ]
  },
  {
   "cell_type": "code",
   "execution_count": null,
   "metadata": {},
   "outputs": [],
   "source": []
  }
 ],
 "metadata": {
  "kernelspec": {
   "display_name": "Python 3",
   "language": "python",
   "name": "python3"
  },
  "language_info": {
   "codemirror_mode": {
    "name": "ipython",
    "version": 3
   },
   "file_extension": ".py",
   "mimetype": "text/x-python",
   "name": "python",
   "nbconvert_exporter": "python",
   "pygments_lexer": "ipython3",
   "version": "3.6.8"
  }
 },
 "nbformat": 4,
 "nbformat_minor": 2
}
